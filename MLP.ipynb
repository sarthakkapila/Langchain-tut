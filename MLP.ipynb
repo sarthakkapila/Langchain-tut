{
 "cells": [
  {
   "cell_type": "code",
   "execution_count": 279,
   "id": "a68e5c67",
   "metadata": {},
   "outputs": [],
   "source": [
    "import torch\n",
    "import torch.nn.functional as F\n",
    "import matplotlib.pyplot as plt\n",
    "import torch.nn as nn\n",
    "import matplotlib.pyplot as plt"
   ]
  },
  {
   "cell_type": "code",
   "execution_count": 280,
   "id": "9e4cb0f1",
   "metadata": {},
   "outputs": [
    {
     "data": {
      "text/plain": [
       "['emma', 'olivia', 'ava', 'isabella', 'sophia', 'charlotte', 'mia', 'amelia']"
      ]
     },
     "execution_count": 280,
     "metadata": {},
     "output_type": "execute_result"
    }
   ],
   "source": [
    "words = open('names.txt', 'r').read().splitlines()\n",
    "words[:8]"
   ]
  },
  {
   "cell_type": "code",
   "execution_count": 281,
   "id": "f5af95a1",
   "metadata": {},
   "outputs": [
    {
     "data": {
      "text/plain": [
       "32033"
      ]
     },
     "execution_count": 281,
     "metadata": {},
     "output_type": "execute_result"
    }
   ],
   "source": [
    "len(words)"
   ]
  },
  {
   "cell_type": "code",
   "execution_count": 282,
   "id": "58a1d6ea",
   "metadata": {
    "scrolled": true
   },
   "outputs": [
    {
     "name": "stdout",
     "output_type": "stream",
     "text": [
      "{1: 'a', 2: 'b', 3: 'c', 4: 'd', 5: 'e', 6: 'f', 7: 'g', 8: 'h', 9: 'i', 10: 'j', 11: 'k', 12: 'l', 13: 'm', 14: 'n', 15: 'o', 16: 'p', 17: 'q', 18: 'r', 19: 's', 20: 't', 21: 'u', 22: 'v', 23: 'w', 24: 'x', 25: 'y', 26: 'z', 0: '.'}\n"
     ]
    }
   ],
   "source": [
    "# build the vocabulary of characters and mappings to/from integers\n",
    "chars = sorted(list(set(''.join(words))))\n",
    "stoi = {s:i+1 for i,s in enumerate(chars)}\n",
    "stoi['.'] = 0\n",
    "itos = {i:s for s,i in stoi.items()}\n",
    "print(itos)"
   ]
  },
  {
   "cell_type": "code",
   "execution_count": 283,
   "id": "2602e744",
   "metadata": {
    "scrolled": false
   },
   "outputs": [],
   "source": [
    "context_window = 3\n",
    "X, Y = [], []\n",
    "\n",
    "for w in words:\n",
    "    context = [0] * context_window\n",
    "#     print(w)\n",
    "    for i in w + '.':\n",
    "        ix = stoi[i]\n",
    "        X.append(context)\n",
    "        Y.append(ix)\n",
    "#         print(''.join(itos[i] for i in context), '--->', itos[ix])\n",
    "        context = context[1:] + [ix]\n",
    "        \n",
    "X = torch.tensor(X)      # This is the input part which has all the trigrams i.e. 196113 in a matrix of 196113 x 3\n",
    "Y = torch.tensor(Y)      # This contains the right index for the predicting char"
   ]
  },
  {
   "cell_type": "code",
   "execution_count": 284,
   "id": "9dded5f3",
   "metadata": {},
   "outputs": [
    {
     "data": {
      "text/plain": [
       "(torch.Size([228146, 3]), torch.Size([228146]))"
      ]
     },
     "execution_count": 284,
     "metadata": {},
     "output_type": "execute_result"
    }
   ],
   "source": [
    "X.size(), Y.size()"
   ]
  },
  {
   "cell_type": "code",
   "execution_count": 285,
   "id": "aab47e7a",
   "metadata": {},
   "outputs": [
    {
     "data": {
      "text/plain": [
       "(torch.Size([228146, 3]), torch.int64, torch.Size([228146]), torch.int64)"
      ]
     },
     "execution_count": 285,
     "metadata": {},
     "output_type": "execute_result"
    }
   ],
   "source": [
    "X.shape, X.dtype, Y.shape, Y.dtype"
   ]
  },
  {
   "cell_type": "code",
   "execution_count": 286,
   "id": "e1f0c388",
   "metadata": {},
   "outputs": [],
   "source": [
    "# <----- DATASET LAOADED ----->\n",
    "# Time to start with with embeddings and then squeeze the dimension\n",
    "# Embeddings ---> Representation of inputs, just like GPT uses tokenization"
   ]
  },
  {
   "cell_type": "code",
   "execution_count": 287,
   "id": "3c8027f2",
   "metadata": {},
   "outputs": [],
   "source": [
    "# First embedding then one hot encoding"
   ]
  },
  {
   "cell_type": "code",
   "execution_count": 288,
   "id": "edfdfef9",
   "metadata": {
    "scrolled": true
   },
   "outputs": [],
   "source": [
    "vocab_size = len(stoi)  # Size of the vocabulary\n",
    "embedding_dim = 30  # Desired dimensionality of embeddings\n",
    "\n",
    "embedding_input = nn.Embedding(num_embeddings=vocab_size, embedding_dim=embedding_dim)\n",
    "\n",
    "embedding_output = nn.Embedding(num_embeddings=vocab_size, embedding_dim=embedding_dim)"
   ]
  },
  {
   "cell_type": "code",
   "execution_count": 289,
   "id": "1394015b",
   "metadata": {},
   "outputs": [],
   "source": [
    "embedded_X = embedding_input(X)\n",
    "embedded_Y = embedding_output(Y) "
   ]
  },
  {
   "cell_type": "code",
   "execution_count": 290,
   "id": "7591a800",
   "metadata": {},
   "outputs": [
    {
     "data": {
      "text/plain": [
       "(torch.Size([228146, 3, 30]),\n",
       " torch.Size([228146, 30]),\n",
       " torch.float32,\n",
       " torch.float32)"
      ]
     },
     "execution_count": 290,
     "metadata": {},
     "output_type": "execute_result"
    }
   ],
   "source": [
    "embedded_X.size(), embedded_Y.size(), embedded_X.dtype, embedded_Y.dtype\n",
    "# 196113 - samples, 3 - context-window, 30 - each word represented by vector length 30"
   ]
  },
  {
   "cell_type": "code",
   "execution_count": 291,
   "id": "d9616094",
   "metadata": {},
   "outputs": [
    {
     "data": {
      "text/plain": [
       "torch.Size([228146, 3, 10])"
      ]
     },
     "execution_count": 291,
     "metadata": {},
     "output_type": "execute_result"
    }
   ],
   "source": [
    "g = torch.Generator().manual_seed(2147483647) # for reproducibility\n",
    "C = torch.randn((27, 10), generator=g)\n",
    "C[X].shape\n",
    "# W1 = torch.randn((30, 200), generator=g)\n",
    "# b1 = torch.randn(200, generator=g)\n",
    "# W2 = torch.randn((200, 27), generator=g)\n",
    "# b2 = torch.randn(27, generator=g)\n",
    "\n",
    "# parameters = [embedded_X, W1, b1, W2, b2]"
   ]
  },
  {
   "cell_type": "code",
   "execution_count": 292,
   "id": "d78f4f0f",
   "metadata": {
    "scrolled": true
   },
   "outputs": [
    {
     "data": {
      "text/plain": [
       "12297"
      ]
     },
     "execution_count": 292,
     "metadata": {},
     "output_type": "execute_result"
    }
   ],
   "source": [
    "sum(p.nelement() for p in parameters) # number of parameters in total"
   ]
  },
  {
   "cell_type": "code",
   "execution_count": 293,
   "id": "2faa3c73",
   "metadata": {},
   "outputs": [],
   "source": [
    "h = torch.tanh(embedded_X @ W1 + b1)"
   ]
  },
  {
   "cell_type": "code",
   "execution_count": 294,
   "id": "232d7122",
   "metadata": {
    "scrolled": true
   },
   "outputs": [
    {
     "data": {
      "text/plain": [
       "tensor([[[ 0.9009, -0.8919,  0.9173,  ...,  0.6913, -0.5914, -0.9978],\n",
       "         [ 0.9009, -0.8919,  0.9173,  ...,  0.6913, -0.5914, -0.9978],\n",
       "         [ 0.9009, -0.8919,  0.9173,  ...,  0.6913, -0.5914, -0.9978]],\n",
       "\n",
       "        [[ 0.9009, -0.8919,  0.9173,  ...,  0.6913, -0.5914, -0.9978],\n",
       "         [ 0.9009, -0.8919,  0.9173,  ...,  0.6913, -0.5914, -0.9978],\n",
       "         [-0.2020, -0.9702,  0.9517,  ..., -0.8925,  0.7936, -0.9790]],\n",
       "\n",
       "        [[ 0.9009, -0.8919,  0.9173,  ...,  0.6913, -0.5914, -0.9978],\n",
       "         [-0.2020, -0.9702,  0.9517,  ..., -0.8925,  0.7936, -0.9790],\n",
       "         [-0.8572, -0.4937, -0.6267,  ...,  0.9709, -0.2637, -0.9861]],\n",
       "\n",
       "        ...,\n",
       "\n",
       "        [[ 0.9012, -0.9995,  0.9995,  ..., -0.7387, -0.8740,  0.7143],\n",
       "         [ 0.9012, -0.9995,  0.9995,  ..., -0.7387, -0.8740,  0.7143],\n",
       "         [-0.1676, -0.9973, -0.8007,  ..., -0.1375, -0.9935, -0.9861]],\n",
       "\n",
       "        [[ 0.9012, -0.9995,  0.9995,  ..., -0.7387, -0.8740,  0.7143],\n",
       "         [-0.1676, -0.9973, -0.8007,  ..., -0.1375, -0.9935, -0.9861],\n",
       "         [ 0.9012, -0.9995,  0.9995,  ..., -0.7387, -0.8740,  0.7143]],\n",
       "\n",
       "        [[-0.1676, -0.9973, -0.8007,  ..., -0.1375, -0.9935, -0.9861],\n",
       "         [ 0.9012, -0.9995,  0.9995,  ..., -0.7387, -0.8740,  0.7143],\n",
       "         [ 0.1223, -0.3483, -0.7844,  ...,  0.7158, -0.9396, -0.9985]]],\n",
       "       grad_fn=<TanhBackward0>)"
      ]
     },
     "execution_count": 294,
     "metadata": {},
     "output_type": "execute_result"
    }
   ],
   "source": [
    "h"
   ]
  },
  {
   "cell_type": "code",
   "execution_count": 295,
   "id": "fcb67612",
   "metadata": {},
   "outputs": [],
   "source": [
    "logits = (h @ W2 + b2)"
   ]
  },
  {
   "cell_type": "code",
   "execution_count": 296,
   "id": "275668b7",
   "metadata": {},
   "outputs": [],
   "source": [
    "counts = logits.exp()"
   ]
  },
  {
   "cell_type": "code",
   "execution_count": 297,
   "id": "b072a681",
   "metadata": {},
   "outputs": [],
   "source": [
    "probs = counts/counts.sum(1, keepdims=True)"
   ]
  },
  {
   "cell_type": "code",
   "execution_count": 298,
   "id": "7868503c",
   "metadata": {},
   "outputs": [
    {
     "data": {
      "text/plain": [
       "torch.Size([228146, 3, 27])"
      ]
     },
     "execution_count": 298,
     "metadata": {},
     "output_type": "execute_result"
    }
   ],
   "source": [
    "probs.shape"
   ]
  },
  {
   "cell_type": "code",
   "execution_count": 299,
   "id": "fa2a001f",
   "metadata": {},
   "outputs": [],
   "source": [
    "# < ----------------------------- >"
   ]
  },
  {
   "cell_type": "code",
   "execution_count": 300,
   "id": "799a594b",
   "metadata": {},
   "outputs": [],
   "source": [
    "C = torch.randn(27,2)"
   ]
  },
  {
   "cell_type": "code",
   "execution_count": 301,
   "id": "9b075abe",
   "metadata": {
    "scrolled": false
   },
   "outputs": [
    {
     "data": {
      "text/plain": [
       "tensor([[[-0.0146,  1.5035],\n",
       "         [-0.0146,  1.5035],\n",
       "         [-0.0146,  1.5035]],\n",
       "\n",
       "        [[-0.0146,  1.5035],\n",
       "         [-0.0146,  1.5035],\n",
       "         [-0.2987, -0.2897]],\n",
       "\n",
       "        [[-0.0146,  1.5035],\n",
       "         [-0.2987, -0.2897],\n",
       "         [ 0.9044, -0.3588]],\n",
       "\n",
       "        ...,\n",
       "\n",
       "        [[-2.0746, -1.1431],\n",
       "         [-2.0746, -1.1431],\n",
       "         [-0.1057,  0.6533]],\n",
       "\n",
       "        [[-2.0746, -1.1431],\n",
       "         [-0.1057,  0.6533],\n",
       "         [-2.0746, -1.1431]],\n",
       "\n",
       "        [[-0.1057,  0.6533],\n",
       "         [-2.0746, -1.1431],\n",
       "         [-2.1319, -0.4559]]])"
      ]
     },
     "execution_count": 301,
     "metadata": {},
     "output_type": "execute_result"
    }
   ],
   "source": [
    "C[X]"
   ]
  },
  {
   "cell_type": "code",
   "execution_count": 302,
   "id": "94b709cf",
   "metadata": {},
   "outputs": [
    {
     "data": {
      "text/plain": [
       "torch.Size([228146, 3, 2])"
      ]
     },
     "execution_count": 302,
     "metadata": {},
     "output_type": "execute_result"
    }
   ],
   "source": [
    "C[X].shape \n",
    "# (27, 2) (32, 3) ---> (32, 3, 2)"
   ]
  },
  {
   "cell_type": "code",
   "execution_count": 303,
   "id": "be903381",
   "metadata": {},
   "outputs": [
    {
     "data": {
      "text/plain": [
       "torch.Size([228146, 3, 2])"
      ]
     },
     "execution_count": 303,
     "metadata": {},
     "output_type": "execute_result"
    }
   ],
   "source": [
    "emb = C[X]\n",
    "emb.shape\n",
    "# 2 dimensional embeddings times 3 \n",
    "# 32 tells about the input"
   ]
  },
  {
   "cell_type": "code",
   "execution_count": 304,
   "id": "e432c1cc",
   "metadata": {},
   "outputs": [],
   "source": [
    "w1 = torch.randn(6,100) # 3 x 2 and 100 weights\n",
    "b1 = torch.randn(100)"
   ]
  },
  {
   "cell_type": "code",
   "execution_count": 305,
   "id": "0ecca166",
   "metadata": {},
   "outputs": [],
   "source": [
    "h = torch.tanh(emb.view(-1, 6) @ w1 + b1)"
   ]
  },
  {
   "cell_type": "code",
   "execution_count": 306,
   "id": "89fb9723",
   "metadata": {},
   "outputs": [
    {
     "data": {
      "text/plain": [
       "torch.Size([228146, 100])"
      ]
     },
     "execution_count": 306,
     "metadata": {},
     "output_type": "execute_result"
    }
   ],
   "source": [
    "h.shape"
   ]
  },
  {
   "cell_type": "code",
   "execution_count": 307,
   "id": "3009306e",
   "metadata": {},
   "outputs": [],
   "source": [
    "w2 = torch.randn(100, 27) \n",
    "b2 = torch.randn(27)"
   ]
  },
  {
   "cell_type": "code",
   "execution_count": 308,
   "id": "fd34a13d",
   "metadata": {},
   "outputs": [
    {
     "data": {
      "text/plain": [
       "tensor([[  0.6074,  -0.1410, -15.8221,  ...,   7.8369,   8.2178,  19.8254],\n",
       "        [  5.1217,  -1.5179, -17.3139,  ...,  12.4496,  -5.6768,   6.2074],\n",
       "        [  4.1714, -12.5883,  -8.2435,  ...,   5.6607,   4.0641,  -1.5309],\n",
       "        ...,\n",
       "        [-12.9618,   6.5216,   9.8955,  ...,  -7.7914,  10.3403,   0.2727],\n",
       "        [-11.1920,   2.1367,   4.7510,  ...,  -5.3252,   8.4317,   2.7780],\n",
       "        [-10.5078,   1.1333,  13.4914,  ...,   0.1007,  -1.6342,   5.2580]])"
      ]
     },
     "execution_count": 308,
     "metadata": {},
     "output_type": "execute_result"
    }
   ],
   "source": [
    "logits = h @ w2 + b2\n",
    "logits"
   ]
  },
  {
   "cell_type": "code",
   "execution_count": 309,
   "id": "c555c402",
   "metadata": {},
   "outputs": [],
   "source": [
    "counts = logits.exp()"
   ]
  },
  {
   "cell_type": "code",
   "execution_count": 310,
   "id": "73e6f28c",
   "metadata": {},
   "outputs": [],
   "source": [
    "prob = counts / counts.sum(1, keepdims=True)"
   ]
  },
  {
   "cell_type": "code",
   "execution_count": 311,
   "id": "8e8332e4",
   "metadata": {},
   "outputs": [
    {
     "data": {
      "text/plain": [
       "torch.Size([228146, 27])"
      ]
     },
     "execution_count": 311,
     "metadata": {},
     "output_type": "execute_result"
    }
   ],
   "source": [
    "prob.shape"
   ]
  },
  {
   "cell_type": "code",
   "execution_count": 312,
   "id": "1045afb0",
   "metadata": {},
   "outputs": [
    {
     "data": {
      "text/plain": [
       "tensor([ 5, 13, 13,  ..., 26, 24,  0])"
      ]
     },
     "execution_count": 312,
     "metadata": {},
     "output_type": "execute_result"
    }
   ],
   "source": [
    "Y"
   ]
  },
  {
   "cell_type": "code",
   "execution_count": 313,
   "id": "5b4f4970",
   "metadata": {},
   "outputs": [
    {
     "ename": "IndexError",
     "evalue": "shape mismatch: indexing tensors could not be broadcast together with shapes [32], [228146]",
     "output_type": "error",
     "traceback": [
      "\u001b[0;31m---------------------------------------------------------------------------\u001b[0m",
      "\u001b[0;31mIndexError\u001b[0m                                Traceback (most recent call last)",
      "Cell \u001b[0;32mIn[313], line 1\u001b[0m\n\u001b[0;32m----> 1\u001b[0m loss \u001b[38;5;241m=\u001b[39m \u001b[38;5;241m-\u001b[39mprob[torch\u001b[38;5;241m.\u001b[39marange(\u001b[38;5;241m32\u001b[39m), Y]\u001b[38;5;241m.\u001b[39mlog()\u001b[38;5;241m.\u001b[39mmean()\n",
      "\u001b[0;31mIndexError\u001b[0m: shape mismatch: indexing tensors could not be broadcast together with shapes [32], [228146]"
     ]
    }
   ],
   "source": [
    "loss = -prob[torch.arange(32), Y].log().mean()"
   ]
  },
  {
   "cell_type": "code",
   "execution_count": null,
   "id": "7a716e04",
   "metadata": {},
   "outputs": [],
   "source": [
    "# --------------------------------------------------------------------------------------------------------------- #"
   ]
  },
  {
   "cell_type": "code",
   "execution_count": 332,
   "id": "fec4be69",
   "metadata": {
    "scrolled": true
   },
   "outputs": [
    {
     "data": {
      "text/plain": [
       "(torch.Size([228146, 3]), torch.Size([228146]))"
      ]
     },
     "execution_count": 332,
     "metadata": {},
     "output_type": "execute_result"
    }
   ],
   "source": [
    "X.shape, Y.shape"
   ]
  },
  {
   "cell_type": "code",
   "execution_count": 316,
   "id": "d0de7820",
   "metadata": {},
   "outputs": [],
   "source": [
    "max_steps = 100000\n",
    "batch_size = 32\n",
    "n_hidden = 200\n",
    "dim = 10\n",
    "vocab = 27\n",
    "\n",
    "g = torch.Generator().manual_seed(2147483647) # for reproducibility\n",
    "C = torch.randn((vocab, dim), generator=g)\n",
    "W1 = torch.randn((30, n_hidden), generator=g) * (5/3) / (3 * 10)**0.5 # * 0.1\n",
    "# b1 = torch.randn(n_hidden, generator=g) * 0.01\n",
    "W2 = torch.randn((n_hidden, vocab), generator=g) * 0.01\n",
    "b2 = torch.randn(vocab, generator=g) * 0\n",
    "\n",
    "bngain = torch.ones(1, n_hidden)\n",
    "bnbias = torch.zeros(1, n_hidden) \n",
    "bnmean_running = torch.zeros((1, n_hidden))\n",
    "bnstd_running = torch.ones((1, n_hidden))\n",
    "\n",
    "parameters = [C, W1, b1, W2, b2, bngain, bnbias]"
   ]
  },
  {
   "cell_type": "code",
   "execution_count": 317,
   "id": "4757f016",
   "metadata": {},
   "outputs": [
    {
     "data": {
      "text/plain": [
       "12197"
      ]
     },
     "execution_count": 317,
     "metadata": {},
     "output_type": "execute_result"
    }
   ],
   "source": [
    "sum(p.nelement() for p in parameters) "
   ]
  },
  {
   "cell_type": "code",
   "execution_count": 318,
   "id": "8fa183ec",
   "metadata": {},
   "outputs": [],
   "source": [
    "for p in parameters:\n",
    "    p.requires_grad = True"
   ]
  },
  {
   "cell_type": "code",
   "execution_count": 319,
   "id": "b166304a",
   "metadata": {},
   "outputs": [],
   "source": [
    "# If you intialize forward pass properly backward pass is initialized on its own to some extent"
   ]
  },
  {
   "cell_type": "code",
   "execution_count": 320,
   "id": "05ee6042",
   "metadata": {},
   "outputs": [],
   "source": [
    "# std = gain / root fan_mode "
   ]
  },
  {
   "cell_type": "code",
   "execution_count": 330,
   "id": "239d484c",
   "metadata": {},
   "outputs": [
    {
     "name": "stdout",
     "output_type": "stream",
     "text": [
      "      0/ 100000: 2.5516\n",
      "  10000/ 100000: 2.2808\n",
      "  20000/ 100000: 2.1282\n",
      "  30000/ 100000: 2.3596\n",
      "  40000/ 100000: 2.4811\n",
      "  50000/ 100000: 1.6642\n",
      "  60000/ 100000: 2.0561\n",
      "  70000/ 100000: 2.5376\n",
      "  80000/ 100000: 2.0498\n",
      "  90000/ 100000: 2.5743\n"
     ]
    }
   ],
   "source": [
    "losses = []\n",
    "\n",
    "for i in range(max_steps):\n",
    "    \n",
    "    # minibatch construct\n",
    "    ix = torch.randint(0, X.shape[0], (batch_size,), generator=g)\n",
    "    Xb, Yb = X[ix], Y[ix] # Batch of X & Y\n",
    "    \n",
    "    # Forward pass\n",
    "    emb = C[X[ix]] # Embedding the chars\n",
    "    embcat = emb.view(emb.shape[0], -1) # concatenate the vectors\n",
    "    \n",
    "#     Linear layer\n",
    "    hpreact = emb.view(-1, 30) @ W1 # + b1\n",
    "    \n",
    "#     Normalizing\n",
    "    bnmeani = hpreact.mean(0, keepdim=True)\n",
    "    bnstdi = hpreact.std(0, keepdim=True)\n",
    "    hpreact = bngain * (hpreact - bnmeani) / bnstdi + bnbias    # mean / std dev.\n",
    "    \n",
    "    with torch.no_grad():\n",
    "        bnmean_running = 0.999 * bnmean_running + 0.001 * bnmeani\n",
    "        bnstd_running = 0.999 * bnstd_running + 0.001 * bnstdi\n",
    "#     firing rates will be unit gaussian\n",
    "    h = torch.tanh(hpreact)    \n",
    "    logits = h @ W2 + b2\n",
    "    loss = F.cross_entropy(logits, Y[ix])\n",
    "#     print(loss.item())\n",
    "    \n",
    "    # backward pass\n",
    "    for p in parameters:\n",
    "        p.grad = None\n",
    "    loss.backward()\n",
    "\n",
    "    # update\n",
    "    lr = 0.1 if i < 100000 else 0.01\n",
    "    for p in parameters:\n",
    "        if p.grad == None:\n",
    "            continue\n",
    "        p.data += -lr * p.grad\n",
    "\n",
    "    # track stats\n",
    "    if i % 10000 == 0:\n",
    "        print(f'{i:7d}/{max_steps:7d}: {loss.item():.4f}')\n",
    "    losses.append(loss.log10().item())"
   ]
  },
  {
   "cell_type": "code",
   "execution_count": null,
   "id": "8948817e",
   "metadata": {},
   "outputs": [],
   "source": [
    "plt.plot(losses)"
   ]
  },
  {
   "cell_type": "code",
   "execution_count": null,
   "id": "80b99580",
   "metadata": {},
   "outputs": [],
   "source": [
    "k = torch.randn(27,1)\n",
    "x = torch.randn(200, 30)\n"
   ]
  },
  {
   "cell_type": "code",
   "execution_count": null,
   "id": "919ca394",
   "metadata": {},
   "outputs": [],
   "source": []
  },
  {
   "cell_type": "code",
   "execution_count": null,
   "id": "9a0cd4cf",
   "metadata": {},
   "outputs": [],
   "source": []
  },
  {
   "cell_type": "code",
   "execution_count": null,
   "id": "cc2db265",
   "metadata": {},
   "outputs": [],
   "source": []
  },
  {
   "cell_type": "code",
   "execution_count": null,
   "id": "ffc54acf",
   "metadata": {},
   "outputs": [],
   "source": [
    "plt.hist(h.view(-1).tolist())\n",
    "# Need to normalize this shit XD\n",
    "\n",
    "# As majority of the neurons fire in the extremes tanh being a squashing fn\n",
    "# leading the neurons to be dead"
   ]
  },
  {
   "cell_type": "code",
   "execution_count": null,
   "id": "eda480b4",
   "metadata": {},
   "outputs": [],
   "source": []
  },
  {
   "cell_type": "code",
   "execution_count": null,
   "id": "2ff865c4",
   "metadata": {},
   "outputs": [],
   "source": []
  },
  {
   "cell_type": "code",
   "execution_count": null,
   "id": "d602c0f5",
   "metadata": {},
   "outputs": [],
   "source": []
  },
  {
   "cell_type": "code",
   "execution_count": null,
   "id": "89400fe4",
   "metadata": {},
   "outputs": [],
   "source": []
  },
  {
   "cell_type": "code",
   "execution_count": null,
   "id": "822b254d",
   "metadata": {},
   "outputs": [],
   "source": []
  },
  {
   "cell_type": "code",
   "execution_count": 331,
   "id": "c5e9685f",
   "metadata": {
    "scrolled": true
   },
   "outputs": [
    {
     "ename": "RuntimeError",
     "evalue": "The size of tensor a (200) must match the size of tensor b (100) at non-singleton dimension 1",
     "output_type": "error",
     "traceback": [
      "\u001b[0;31m---------------------------------------------------------------------------\u001b[0m",
      "\u001b[0;31mRuntimeError\u001b[0m                              Traceback (most recent call last)",
      "Cell \u001b[0;32mIn[331], line 10\u001b[0m\n\u001b[1;32m      8\u001b[0m \u001b[38;5;28;01mwhile\u001b[39;00m \u001b[38;5;28;01mTrue\u001b[39;00m:\n\u001b[1;32m      9\u001b[0m   emb \u001b[38;5;241m=\u001b[39m C[torch\u001b[38;5;241m.\u001b[39mtensor([context])] \u001b[38;5;66;03m# (1,block_size,d)\u001b[39;00m\n\u001b[0;32m---> 10\u001b[0m   h \u001b[38;5;241m=\u001b[39m torch\u001b[38;5;241m.\u001b[39mtanh(emb\u001b[38;5;241m.\u001b[39mview(\u001b[38;5;241m1\u001b[39m, \u001b[38;5;241m-\u001b[39m\u001b[38;5;241m1\u001b[39m) \u001b[38;5;241m@\u001b[39m W1 \u001b[38;5;241m+\u001b[39m b1)\n\u001b[1;32m     11\u001b[0m   logits \u001b[38;5;241m=\u001b[39m h \u001b[38;5;241m@\u001b[39m W2 \u001b[38;5;241m+\u001b[39m b2\n\u001b[1;32m     12\u001b[0m   probs \u001b[38;5;241m=\u001b[39m F\u001b[38;5;241m.\u001b[39msoftmax(logits, dim\u001b[38;5;241m=\u001b[39m\u001b[38;5;241m1\u001b[39m)\n",
      "\u001b[0;31mRuntimeError\u001b[0m: The size of tensor a (200) must match the size of tensor b (100) at non-singleton dimension 1"
     ]
    }
   ],
   "source": [
    "# sample from the model\n",
    "g = torch.Generator().manual_seed(2147483647 + 10)\n",
    "block_size = 3\n",
    "for _ in range(20):\n",
    "    \n",
    "    out = []\n",
    "    context = [0] * block_size # initialize with all ...\n",
    "    while True:\n",
    "      emb = C[torch.tensor([context])] # (1,block_size,d)\n",
    "      h = torch.tanh(emb.view(1, -1) @ W1 + b1)\n",
    "      logits = h @ W2 + b2\n",
    "      probs = F.softmax(logits, dim=1)\n",
    "      ix = torch.multinomial(probs, num_samples=1, generator=g).item()\n",
    "      context = context[1:] + [ix]\n",
    "      out.append(ix)\n",
    "      if ix == 0:\n",
    "        break\n",
    "        \n",
    "    print(''.join(itos[i] for i in out))"
   ]
  },
  {
   "cell_type": "code",
   "execution_count": null,
   "id": "a56ecfde",
   "metadata": {},
   "outputs": [],
   "source": []
  },
  {
   "cell_type": "code",
   "execution_count": null,
   "id": "9ec16a00",
   "metadata": {},
   "outputs": [],
   "source": []
  },
  {
   "cell_type": "code",
   "execution_count": null,
   "id": "5e591f25",
   "metadata": {},
   "outputs": [],
   "source": []
  },
  {
   "cell_type": "code",
   "execution_count": null,
   "id": "e5ea712f",
   "metadata": {},
   "outputs": [],
   "source": []
  }
 ],
 "metadata": {
  "kernelspec": {
   "display_name": "Python 3 (ipykernel)",
   "language": "python",
   "name": "python3"
  },
  "language_info": {
   "codemirror_mode": {
    "name": "ipython",
    "version": 3
   },
   "file_extension": ".py",
   "mimetype": "text/x-python",
   "name": "python",
   "nbconvert_exporter": "python",
   "pygments_lexer": "ipython3",
   "version": "3.11.5"
  }
 },
 "nbformat": 4,
 "nbformat_minor": 5
}
