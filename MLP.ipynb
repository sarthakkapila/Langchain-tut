{
 "cells": [
  {
   "cell_type": "code",
   "execution_count": 45,
   "id": "6481f30c",
   "metadata": {},
   "outputs": [],
   "source": [
    "import torch\n",
    "import torch.nn.functional as F\n",
    "import matplotlib.pyplot as plt\n",
    "import torch.nn as nn"
   ]
  },
  {
   "cell_type": "code",
   "execution_count": 2,
   "id": "f5c481ba",
   "metadata": {},
   "outputs": [
    {
     "data": {
      "text/plain": [
       "['emma', 'olivia', 'ava', 'isabella', 'sophia', 'charlotte', 'mia', 'amelia']"
      ]
     },
     "execution_count": 2,
     "metadata": {},
     "output_type": "execute_result"
    }
   ],
   "source": [
    "words = open('names.txt', 'r').read().splitlines()\n",
    "words[:8]"
   ]
  },
  {
   "cell_type": "code",
   "execution_count": 4,
   "id": "f5a884c9",
   "metadata": {},
   "outputs": [
    {
     "data": {
      "text/plain": [
       "32033"
      ]
     },
     "execution_count": 4,
     "metadata": {},
     "output_type": "execute_result"
    }
   ],
   "source": [
    "len(words)"
   ]
  },
  {
   "cell_type": "code",
   "execution_count": 7,
   "id": "b6a88d17",
   "metadata": {
    "scrolled": true
   },
   "outputs": [
    {
     "name": "stdout",
     "output_type": "stream",
     "text": [
      "{1: 'a', 2: 'b', 3: 'c', 4: 'd', 5: 'e', 6: 'f', 7: 'g', 8: 'h', 9: 'i', 10: 'j', 11: 'k', 12: 'l', 13: 'm', 14: 'n', 15: 'o', 16: 'p', 17: 'q', 18: 'r', 19: 's', 20: 't', 21: 'u', 22: 'v', 23: 'w', 24: 'x', 25: 'y', 26: 'z', 0: '.'}\n"
     ]
    }
   ],
   "source": [
    "# build the vocabulary of characters and mappings to/from integers\n",
    "chars = sorted(list(set(''.join(words))))\n",
    "stoi = {s:i+1 for i,s in enumerate(chars)}\n",
    "stoi['.'] = 0\n",
    "itos = {i:s for s,i in stoi.items()}\n",
    "print(itos)"
   ]
  },
  {
   "cell_type": "code",
   "execution_count": 109,
   "id": "bc6df568",
   "metadata": {},
   "outputs": [
    {
     "name": "stdout",
     "output_type": "stream",
     "text": [
      "emma\n",
      "... ---> e\n",
      "..e ---> m\n",
      ".em ---> m\n",
      "emm ---> a\n",
      "mma ---> .\n",
      "olivia\n",
      "... ---> o\n",
      "..o ---> l\n",
      ".ol ---> i\n",
      "oli ---> v\n",
      "liv ---> i\n",
      "ivi ---> a\n",
      "via ---> .\n",
      "ava\n",
      "... ---> a\n",
      "..a ---> v\n",
      ".av ---> a\n",
      "ava ---> .\n",
      "isabella\n",
      "... ---> i\n",
      "..i ---> s\n",
      ".is ---> a\n",
      "isa ---> b\n",
      "sab ---> e\n",
      "abe ---> l\n",
      "bel ---> l\n",
      "ell ---> a\n",
      "lla ---> .\n",
      "sophia\n",
      "... ---> s\n",
      "..s ---> o\n",
      ".so ---> p\n",
      "sop ---> h\n",
      "oph ---> i\n",
      "phi ---> a\n",
      "hia ---> .\n"
     ]
    }
   ],
   "source": [
    "context_window = 3\n",
    "X, Y = [], []\n",
    "\n",
    "for w in words[:5]:\n",
    "    context = [0] * context_window\n",
    "    print(w)\n",
    "    for i in w + '.':\n",
    "        ix = stoi[i]\n",
    "        X.append(context)\n",
    "        Y.append(ix)\n",
    "        print(''.join(itos[i] for i in context), '--->', itos[ix])\n",
    "        context = context[1:] + [ix]\n",
    "        \n",
    "X = torch.tensor(X)      # This is the input part which has all the trigrams i.e. 196113 in a matrix of 196113 x 3\n",
    "Y = torch.tensor(Y)      # This contains the right index for the predicting char"
   ]
  },
  {
   "cell_type": "code",
   "execution_count": 110,
   "id": "bb2317bd",
   "metadata": {},
   "outputs": [
    {
     "data": {
      "text/plain": [
       "(torch.Size([32, 3]), torch.Size([32]))"
      ]
     },
     "execution_count": 110,
     "metadata": {},
     "output_type": "execute_result"
    }
   ],
   "source": [
    "X.size(), Y.size()"
   ]
  },
  {
   "cell_type": "code",
   "execution_count": 111,
   "id": "4e9a8a8d",
   "metadata": {},
   "outputs": [
    {
     "data": {
      "text/plain": [
       "(torch.Size([32, 3]), torch.int64, torch.Size([32]), torch.int64)"
      ]
     },
     "execution_count": 111,
     "metadata": {},
     "output_type": "execute_result"
    }
   ],
   "source": [
    "X.shape, X.dtype, Y.shape, Y.dtype"
   ]
  },
  {
   "cell_type": "code",
   "execution_count": 49,
   "id": "322c2fc8",
   "metadata": {},
   "outputs": [],
   "source": [
    "# <----- DATASET LAOADED ----->\n",
    "# Time to start with with embeddings and then squeeze the dimension\n",
    "# Embeddings ---> Representation of inputs, just like GPT uses tokenization"
   ]
  },
  {
   "cell_type": "code",
   "execution_count": 50,
   "id": "2be4c31c",
   "metadata": {},
   "outputs": [],
   "source": [
    "# First embedding then one hot encoding"
   ]
  },
  {
   "cell_type": "code",
   "execution_count": 112,
   "id": "20b4ccac",
   "metadata": {
    "scrolled": true
   },
   "outputs": [],
   "source": [
    "vocab_size = len(stoi)  # Size of the vocabulary\n",
    "embedding_dim = 30  # Desired dimensionality of embeddings\n",
    "\n",
    "embedding_input = nn.Embedding(num_embeddings=vocab_size, embedding_dim=embedding_dim)\n",
    "\n",
    "embedding_output = nn.Embedding(num_embeddings=vocab_size, embedding_dim=embedding_dim)"
   ]
  },
  {
   "cell_type": "code",
   "execution_count": 113,
   "id": "2b56569c",
   "metadata": {},
   "outputs": [],
   "source": [
    "embedded_X = embedding_input(X)\n",
    "embedded_Y = embedding_output(Y) "
   ]
  },
  {
   "cell_type": "code",
   "execution_count": 125,
   "id": "338b3337",
   "metadata": {},
   "outputs": [
    {
     "data": {
      "text/plain": [
       "(torch.Size([32, 3, 30]), torch.Size([32, 30]), torch.float32, torch.float32)"
      ]
     },
     "execution_count": 125,
     "metadata": {},
     "output_type": "execute_result"
    }
   ],
   "source": [
    "embedded_X.size(), embedded_Y.size(), embedded_X.dtype, embedded_Y.dtype\n",
    "# 196113 - samples, 3 - context-window, 30 - each word represented by vector length 30"
   ]
  },
  {
   "cell_type": "code",
   "execution_count": 115,
   "id": "a5d5dbae",
   "metadata": {},
   "outputs": [],
   "source": [
    "# g = torch.Generator().manual_seed(2147483647) # for reproducibility\n",
    "# C = torch.randn((27, 10), generator=g)\n",
    "\n",
    "W1 = torch.randn((30, 200), generator=g)\n",
    "b1 = torch.randn(200, generator=g)\n",
    "W2 = torch.randn((200, 27), generator=g)\n",
    "b2 = torch.randn(27, generator=g)\n",
    "\n",
    "parameters = [embedded_X, W1, b1, W2, b2]"
   ]
  },
  {
   "cell_type": "code",
   "execution_count": 116,
   "id": "83aa3303",
   "metadata": {},
   "outputs": [
    {
     "data": {
      "text/plain": [
       "14507"
      ]
     },
     "execution_count": 116,
     "metadata": {},
     "output_type": "execute_result"
    }
   ],
   "source": [
    "sum(p.nelement() for p in parameters) # number of parameters in total"
   ]
  },
  {
   "cell_type": "code",
   "execution_count": 117,
   "id": "5981b733",
   "metadata": {},
   "outputs": [],
   "source": [
    "h = torch.tanh(embedded_X @ W1 + b1)"
   ]
  },
  {
   "cell_type": "code",
   "execution_count": 118,
   "id": "53821ff0",
   "metadata": {},
   "outputs": [
    {
     "data": {
      "text/plain": [
       "tensor([[[-0.9998,  1.0000,  1.0000,  ...,  1.0000,  1.0000,  0.9350],\n",
       "         [-0.9998,  1.0000,  1.0000,  ...,  1.0000,  1.0000,  0.9350],\n",
       "         [-0.9998,  1.0000,  1.0000,  ...,  1.0000,  1.0000,  0.9350]],\n",
       "\n",
       "        [[-0.9998,  1.0000,  1.0000,  ...,  1.0000,  1.0000,  0.9350],\n",
       "         [-0.9998,  1.0000,  1.0000,  ...,  1.0000,  1.0000,  0.9350],\n",
       "         [ 0.9725,  0.9998,  0.9038,  ..., -1.0000,  1.0000,  0.9753]],\n",
       "\n",
       "        [[-0.9998,  1.0000,  1.0000,  ...,  1.0000,  1.0000,  0.9350],\n",
       "         [ 0.9725,  0.9998,  0.9038,  ..., -1.0000,  1.0000,  0.9753],\n",
       "         [-0.9893,  1.0000, -0.8249,  ..., -0.9583,  1.0000, -0.9871]],\n",
       "\n",
       "        ...,\n",
       "\n",
       "        [[-0.9543,  0.9989,  0.9990,  ...,  1.0000, -0.9633, -1.0000],\n",
       "         [ 1.0000, -1.0000,  0.3862,  ...,  0.9820, -0.9999, -0.2584],\n",
       "         [-1.0000, -0.6505, -0.3330,  ..., -0.9847, -0.9989, -1.0000]],\n",
       "\n",
       "        [[ 1.0000, -1.0000,  0.3862,  ...,  0.9820, -0.9999, -0.2584],\n",
       "         [-1.0000, -0.6505, -0.3330,  ..., -0.9847, -0.9989, -1.0000],\n",
       "         [-0.9855, -1.0000,  0.8965,  ...,  0.9970, -1.0000, -0.9811]],\n",
       "\n",
       "        [[-1.0000, -0.6505, -0.3330,  ..., -0.9847, -0.9989, -1.0000],\n",
       "         [-0.9855, -1.0000,  0.8965,  ...,  0.9970, -1.0000, -0.9811],\n",
       "         [-0.9674,  0.5254, -1.0000,  ...,  0.9999,  0.9662,  0.2624]]],\n",
       "       grad_fn=<TanhBackward0>)"
      ]
     },
     "execution_count": 118,
     "metadata": {},
     "output_type": "execute_result"
    }
   ],
   "source": [
    "h"
   ]
  },
  {
   "cell_type": "code",
   "execution_count": 119,
   "id": "47bcd698",
   "metadata": {},
   "outputs": [],
   "source": [
    "logits = (h @ W2 + b2)"
   ]
  },
  {
   "cell_type": "code",
   "execution_count": 120,
   "id": "3c550d93",
   "metadata": {},
   "outputs": [],
   "source": [
    "counts = logits.exp()"
   ]
  },
  {
   "cell_type": "code",
   "execution_count": 121,
   "id": "38dd7307",
   "metadata": {},
   "outputs": [],
   "source": [
    "probs = counts/counts.sum(1, keepdims=True)"
   ]
  },
  {
   "cell_type": "code",
   "execution_count": 122,
   "id": "584f153d",
   "metadata": {},
   "outputs": [
    {
     "data": {
      "text/plain": [
       "torch.Size([32, 3, 27])"
      ]
     },
     "execution_count": 122,
     "metadata": {},
     "output_type": "execute_result"
    }
   ],
   "source": [
    "probs.shape"
   ]
  },
  {
   "cell_type": "code",
   "execution_count": null,
   "id": "543a1359",
   "metadata": {},
   "outputs": [],
   "source": [
    "# < ----------------------------- >"
   ]
  },
  {
   "cell_type": "code",
   "execution_count": 131,
   "id": "94228519",
   "metadata": {},
   "outputs": [],
   "source": [
    "C = torch.randn(27,2)"
   ]
  },
  {
   "cell_type": "code",
   "execution_count": 135,
   "id": "19ede4f7",
   "metadata": {},
   "outputs": [
    {
     "data": {
      "text/plain": [
       "torch.Size([32, 3, 2])"
      ]
     },
     "execution_count": 135,
     "metadata": {},
     "output_type": "execute_result"
    }
   ],
   "source": [
    "C[X]"
   ]
  },
  {
   "cell_type": "code",
   "execution_count": 139,
   "id": "4abf3b99",
   "metadata": {},
   "outputs": [
    {
     "data": {
      "text/plain": [
       "torch.Size([32, 3, 2])"
      ]
     },
     "execution_count": 139,
     "metadata": {},
     "output_type": "execute_result"
    }
   ],
   "source": [
    "C[X].shape \n",
    "# (27, 2) (32, 3) ---> (32, 3, 2)"
   ]
  },
  {
   "cell_type": "code",
   "execution_count": 140,
   "id": "70fdc243",
   "metadata": {},
   "outputs": [
    {
     "data": {
      "text/plain": [
       "torch.Size([32, 3, 2])"
      ]
     },
     "execution_count": 140,
     "metadata": {},
     "output_type": "execute_result"
    }
   ],
   "source": [
    "emb = C[X]\n",
    "emb.shape\n",
    "# 2 dimensional embeddings times 3 \n",
    "# 32 tells about the input"
   ]
  },
  {
   "cell_type": "code",
   "execution_count": 145,
   "id": "4efd9200",
   "metadata": {},
   "outputs": [],
   "source": [
    "w1 = torch.randn(6,100) # 3 x 2 and 100 weights\n",
    "b1 = torch.randn(100)"
   ]
  },
  {
   "cell_type": "code",
   "execution_count": 148,
   "id": "ddabc24a",
   "metadata": {},
   "outputs": [
    {
     "data": {
      "text/plain": [
       "torch.Size([32, 6])"
      ]
     },
     "execution_count": 148,
     "metadata": {},
     "output_type": "execute_result"
    }
   ],
   "source": [
    "# Concatinating it \n",
    "torch.cat(torch.unbind(emb, 1), 1).shape"
   ]
  },
  {
   "cell_type": "code",
   "execution_count": 146,
   "id": "94eac4fa",
   "metadata": {},
   "outputs": [
    {
     "ename": "RuntimeError",
     "evalue": "mat1 and mat2 shapes cannot be multiplied (96x2 and 6x100)",
     "output_type": "error",
     "traceback": [
      "\u001b[0;31m---------------------------------------------------------------------------\u001b[0m",
      "\u001b[0;31mRuntimeError\u001b[0m                              Traceback (most recent call last)",
      "Cell \u001b[0;32mIn[146], line 1\u001b[0m\n\u001b[0;32m----> 1\u001b[0m emb \u001b[38;5;241m@\u001b[39m w1 \u001b[38;5;241m+\u001b[39m b1\n",
      "\u001b[0;31mRuntimeError\u001b[0m: mat1 and mat2 shapes cannot be multiplied (96x2 and 6x100)"
     ]
    }
   ],
   "source": [
    "emb @ w1 + b1"
   ]
  },
  {
   "cell_type": "code",
   "execution_count": null,
   "id": "2e64a051",
   "metadata": {},
   "outputs": [],
   "source": []
  }
 ],
 "metadata": {
  "kernelspec": {
   "display_name": "Python 3 (ipykernel)",
   "language": "python",
   "name": "python3"
  },
  "language_info": {
   "codemirror_mode": {
    "name": "ipython",
    "version": 3
   },
   "file_extension": ".py",
   "mimetype": "text/x-python",
   "name": "python",
   "nbconvert_exporter": "python",
   "pygments_lexer": "ipython3",
   "version": "3.11.5"
  }
 },
 "nbformat": 4,
 "nbformat_minor": 5
}
