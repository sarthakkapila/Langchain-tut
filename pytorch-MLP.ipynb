{
 "cells": [
  {
   "cell_type": "code",
   "execution_count": 9,
   "id": "359aa2ab",
   "metadata": {},
   "outputs": [],
   "source": [
    "import torch \n",
    "import matplotlib.pyplot as plt\n",
    "import random\n",
    "import torch.nn as nn"
   ]
  },
  {
   "cell_type": "code",
   "execution_count": null,
   "id": "62fc6aed",
   "metadata": {},
   "outputs": [],
   "source": [
    "# --------------Torchifying MLP yayy------------"
   ]
  },
  {
   "cell_type": "code",
   "execution_count": null,
   "id": "b68e1afc",
   "metadata": {},
   "outputs": [],
   "source": [
    "g = torch.Generator().manual_seed(2147483647)                       # For consistent rands "
   ]
  },
  {
   "cell_type": "code",
   "execution_count": 36,
   "id": "157df517",
   "metadata": {},
   "outputs": [],
   "source": [
    "class Linear:                  # torch.nn.Linear(in_features, out_features, bias=True, device=None, dtype=None)\n",
    "\n",
    "    def __init__ (self, fan_in, fan_out, biases=True):              # fan in-out tells the number of inputs and outputs\n",
    "        self.weights = torch.randn((fan_in, fan_out), generator=g)  # Complete fan in out later\n",
    "        self.bias = torch.zeros(fan_out) if bias else None\n",
    "                                                               \n",
    "    def __call__(self, X):\n",
    "        if self.biases:\n",
    "            self.h = X @ self.weights + self.biases \n",
    "        else:\n",
    "            self.h = X @ self.weights\n",
    "        return self.h\n",
    "    \n",
    "    def parameters(self):\n",
    "            return sum(self.weights, ([] if self.bias is None else [self.bias]))\n",
    "\n",
    "class BatchNorm1d:\n",
    "# torch.nn.BatchNorm1d(num_features, eps=1e-05, momentum=0.1, affine=True, track_running_stats=True, \n",
    "# device=None, dtype=None)\n",
    "    def __init__(self, fan_in, eps=1e-5, momentum=0.1):\n",
    "        self.eps = eps\n",
    "        self.momentum = momentum\n",
    "        self.training = True\n",
    "        self.gamma = torch.ones(fan_in)\n",
    "        self.beta = torch.zeros(fan_in)\n",
    "    def __call__(self, X, Y):\n",
    "        mean = X.mean(0, keepdim=True)\n",
    "        var = X.var(0, keepdim=True)\n",
    "#         y = (x - mean) / sqrt var[x] + epsilon  * gamma + beta\n",
    "        Xhat = (X - mean) / torch.sqrt(var + self.eps) * self.gamma + self.beta # Xhat will represent the normalized version of the input\n",
    "    \n",
    "    def parameters(self):\n",
    "        return [self.gamma, self.beta]\n",
    "\n",
    "class Tanh:\n",
    "    def __call__(self, x):\n",
    "        self.out = torch.tanh(x)\n",
    "        return self.out\n",
    "    def parameters(self):\n",
    "        return []"
   ]
  },
  {
   "cell_type": "code",
   "execution_count": null,
   "id": "38f0b1b0",
   "metadata": {},
   "outputs": [],
   "source": []
  },
  {
   "cell_type": "code",
   "execution_count": null,
   "id": "ed72a0f4",
   "metadata": {},
   "outputs": [],
   "source": []
  },
  {
   "cell_type": "code",
   "execution_count": null,
   "id": "6ad2e06a",
   "metadata": {},
   "outputs": [],
   "source": []
  },
  {
   "cell_type": "code",
   "execution_count": null,
   "id": "f942f8e8",
   "metadata": {},
   "outputs": [],
   "source": []
  }
 ],
 "metadata": {
  "kernelspec": {
   "display_name": "Python 3 (ipykernel)",
   "language": "python",
   "name": "python3"
  },
  "language_info": {
   "codemirror_mode": {
    "name": "ipython",
    "version": 3
   },
   "file_extension": ".py",
   "mimetype": "text/x-python",
   "name": "python",
   "nbconvert_exporter": "python",
   "pygments_lexer": "ipython3",
   "version": "3.11.5"
  }
 },
 "nbformat": 4,
 "nbformat_minor": 5
}
