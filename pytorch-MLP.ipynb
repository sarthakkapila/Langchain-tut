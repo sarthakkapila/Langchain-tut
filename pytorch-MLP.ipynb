{
 "cells": [
  {
   "cell_type": "code",
   "execution_count": null,
   "id": "da281a3e",
   "metadata": {},
   "outputs": [],
   "source": [
    "import torch \n",
    "import matplotlib.pyplot as plt\n",
    "import random\n",
    "import torch.nn as nn"
   ]
  },
  {
   "cell_type": "code",
   "execution_count": null,
   "id": "4cccb568",
   "metadata": {},
   "outputs": [],
   "source": [
    "# --------------Torchifying MLP yayy---------------"
   ]
  },
  {
   "cell_type": "code",
   "execution_count": null,
   "id": "7b0d0502",
   "metadata": {},
   "outputs": [],
   "source": [
    "# Similiar api to that of pytorch"
   ]
  },
  {
   "cell_type": "code",
   "execution_count": null,
   "id": "ccfbc4d4",
   "metadata": {},
   "outputs": [],
   "source": [
    "class Linear:                  # torch.nn.Linear(in_features, out_features, bias=True, device=None, dtype=None)\n",
    "\n",
    "    def __init__ (self, fan_in, fan_out, bias=True):              # fan in-out tells the number of inputs and outputs\n",
    "        self.weights = torch.randn((fan_in, fan_out), generator=g)  # Complete fan in out later\n",
    "        self.bias = torch.zeros(fan_out) if bias else None\n",
    "                                                               \n",
    "    def __call__(self, X):\n",
    "        if self.bias:\n",
    "            self.h = X @ self.weights + self.bias\n",
    "        else:\n",
    "            self.h = X @ self.weights\n",
    "        return self.h\n",
    "    \n",
    "    def parameters(self):\n",
    "            return sum(self.weights, ([] if self.bias is None else [self.bias]))\n",
    "\n",
    "class BatchNorm1d:\n",
    "# BatchNorm1d(num_features, eps=1e-05, momentum=0.1, affine=True, track_running_stats=True, device=None, dtype=None)\n",
    "\n",
    "    def __init__(self, fan_in, eps=1e-5, momentum=0.1):\n",
    "        self.eps = eps\n",
    "        self.momentum = momentum\n",
    "        self.training = True\n",
    "        self.gamma = torch.ones(fan_in)\n",
    "        self.beta = torch.zeros(fan_in)\n",
    "    def __call__(self, X, Y):\n",
    "        mean = X.mean(0, keepdim=True)\n",
    "        var = X.var(0, keepdim=True)\n",
    "#         y = (x - mean) / sqrt var[x] + epsilon  * gamma + beta\n",
    "        self.Xhat = (X - mean) / torch.sqrt(var + self.eps) * self.gamma + self.beta # Xhat will represent the normalized version of the input\n",
    "    \n",
    "    def parameters(self):\n",
    "        return [self.gamma, self.beta]\n",
    "\n",
    "class Tanh:\n",
    "    def __call__(self, x):\n",
    "        self.out = torch.tanh(x)\n",
    "        return self.out\n",
    "    def parameters(self):\n",
    "        return []\n",
    "\n",
    "g = torch.Generator().manual_seed(2147483647)               \n",
    "n_emb = 10                                     # Will represent the dim\n",
    "n_hidden = 100                                 # Represents the hidden layer neurons\n",
    "vocab_size = 27\n",
    "block_size = 3\n",
    "\n",
    "C = torch.randn((vocab_size, n_emb),            generator=g)\n",
    "layers = [\n",
    "      Linear(n_emb * block_size, n_hidden, bias=False), BatchNorm1d(n_hidden), Tanh(),\n",
    "      Linear(           n_hidden, n_hidden, bias=False), BatchNorm1d(n_hidden), Tanh(),\n",
    "      Linear(           n_hidden, n_hidden, bias=False), BatchNorm1d(n_hidden), Tanh(),\n",
    "      Linear(           n_hidden, n_hidden, bias=False), BatchNorm1d(n_hidden), Tanh(),\n",
    "      Linear(           n_hidden, n_hidden, bias=False), BatchNorm1d(n_hidden), Tanh(),\n",
    "      Linear(           n_hidden, vocab_size, bias=False), BatchNorm1d(vocab_size),\n",
    "]"
   ]
  },
  {
   "cell_type": "code",
   "execution_count": null,
   "id": "650e6abe",
   "metadata": {},
   "outputs": [],
   "source": [
    "losses = []\n",
    "max_steps = 200000\n",
    "batch_size = 32\n",
    "\n",
    "for i in range(max_steps):\n",
    "    \n",
    "    # minibatch construct\n",
    "    ix = torch.randint(0, X.shape[0], (batch_size,), generator=g)\n",
    "    Xb, Yb = X[ix], Y[ix] # Batch of X & Y\n",
    "    \n",
    "    # Forward pass\n",
    "    emb = C[Xb] # embed the characters into vectors\n",
    "    x = emb.view(emb.shape[0], -1) # concatenate the vectors\n",
    "    for layer in layers:\n",
    "        x = layer(x)\n",
    "    loss = F.cross_entropy(x, Yb) # loss function\n",
    "    \n",
    "#     Backward pass\n",
    "    for layer in layers:\n",
    "        layer.out.retain_grad() # AFTER_DEBUG: would take out retain_graph\n",
    "    for p in parameters:\n",
    "        p.grad = None\n",
    "    loss.backward()\n",
    "\n",
    "    # update\n",
    "    lr = 0.1 if i < 100000 else 0.01\n",
    "    for p in parameters:\n",
    "        if p.grad == None:\n",
    "            continue\n",
    "        p.data += -lr * p.grad\n",
    "\n",
    "    # track stats\n",
    "    if i % 10000 == 0:\n",
    "        print(f'{i:7d}/{max_steps:7d}: {loss.item():.4f}')\n",
    "    losses.append(loss.log10().item())"
   ]
  },
  {
   "cell_type": "code",
   "execution_count": null,
   "id": "4234b96d",
   "metadata": {},
   "outputs": [],
   "source": []
  },
  {
   "cell_type": "code",
   "execution_count": null,
   "id": "142a360a",
   "metadata": {},
   "outputs": [],
   "source": []
  },
  {
   "cell_type": "code",
   "execution_count": null,
   "id": "f781cb5f",
   "metadata": {},
   "outputs": [],
   "source": []
  }
 ],
 "metadata": {
  "kernelspec": {
   "display_name": "Python 3 (ipykernel)",
   "language": "python",
   "name": "python3"
  },
  "language_info": {
   "codemirror_mode": {
    "name": "ipython",
    "version": 3
   },
   "file_extension": ".py",
   "mimetype": "text/x-python",
   "name": "python",
   "nbconvert_exporter": "python",
   "pygments_lexer": "ipython3",
   "version": "3.11.5"
  }
 },
 "nbformat": 4,
 "nbformat_minor": 5
}
