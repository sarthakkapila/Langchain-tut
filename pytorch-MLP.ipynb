{
 "cells": [
  {
   "cell_type": "code",
   "execution_count": 9,
   "id": "cdb6145f",
   "metadata": {},
   "outputs": [],
   "source": [
    "import torch \n",
    "import matplotlib.pyplot as plt\n",
    "import random\n",
    "import torch.nn as nn"
   ]
  },
  {
   "cell_type": "code",
   "execution_count": null,
   "id": "3f23ef39",
   "metadata": {},
   "outputs": [],
   "source": [
    "# --------------Torchifying MLP yayy---------------"
   ]
  },
  {
   "cell_type": "code",
   "execution_count": 37,
   "id": "ab2a819c",
   "metadata": {},
   "outputs": [],
   "source": [
    "# Similiar api to that of pytorch"
   ]
  },
  {
   "cell_type": "code",
   "execution_count": 36,
   "id": "1d8963ad",
   "metadata": {},
   "outputs": [],
   "source": [
    "class Linear:                  # torch.nn.Linear(in_features, out_features, bias=True, device=None, dtype=None)\n",
    "\n",
    "    def __init__ (self, fan_in, fan_out, biases=True):              # fan in-out tells the number of inputs and outputs\n",
    "        self.weights = torch.randn((fan_in, fan_out), generator=g)  # Complete fan in out later\n",
    "        self.bias = torch.zeros(fan_out) if bias else None\n",
    "                                                               \n",
    "    def __call__(self, X):\n",
    "        if self.biases:\n",
    "            self.h = X @ self.weights + self.biases \n",
    "        else:\n",
    "            self.h = X @ self.weights\n",
    "        return self.h\n",
    "    \n",
    "    def parameters(self):\n",
    "            return sum(self.weights, ([] if self.bias is None else [self.bias]))\n",
    "\n",
    "class BatchNorm1d:\n",
    "# BatchNorm1d(num_features, eps=1e-05, momentum=0.1, affine=True, track_running_stats=True, device=None, dtype=None)\n",
    "\n",
    "    def __init__(self, fan_in, eps=1e-5, momentum=0.1):\n",
    "        self.eps = eps\n",
    "        self.momentum = momentum\n",
    "        self.training = True\n",
    "        self.gamma = torch.ones(fan_in)\n",
    "        self.beta = torch.zeros(fan_in)\n",
    "    def __call__(self, X, Y):\n",
    "        mean = X.mean(0, keepdim=True)\n",
    "        var = X.var(0, keepdim=True)\n",
    "#         y = (x - mean) / sqrt var[x] + epsilon  * gamma + beta\n",
    "        Xhat = (X - mean) / torch.sqrt(var + self.eps) * self.gamma + self.beta # Xhat will represent the normalized version of the input\n",
    "    \n",
    "    def parameters(self):\n",
    "        return [self.gamma, self.beta]\n",
    "\n",
    "class Tanh:\n",
    "    def __call__(self, x):\n",
    "        self.out = torch.tanh(x)\n",
    "        return self.out\n",
    "    def parameters(self):\n",
    "        return []\n",
    "\n",
    "g = torch.Generator().manual_seed(2147483647)               \n",
    "n_emb = 10                                     # Will represent the dim\n",
    "n_hidden = 100                                 # Represents the hidden layer neurons\n",
    "\n"
   ]
  },
  {
   "cell_type": "code",
   "execution_count": null,
   "id": "4d0f2e12",
   "metadata": {},
   "outputs": [],
   "source": []
  },
  {
   "cell_type": "code",
   "execution_count": null,
   "id": "577f8194",
   "metadata": {},
   "outputs": [],
   "source": []
  },
  {
   "cell_type": "code",
   "execution_count": null,
   "id": "5cd8960e",
   "metadata": {},
   "outputs": [],
   "source": []
  },
  {
   "cell_type": "code",
   "execution_count": null,
   "id": "b63973ae",
   "metadata": {},
   "outputs": [],
   "source": []
  }
 ],
 "metadata": {
  "kernelspec": {
   "display_name": "Python 3 (ipykernel)",
   "language": "python",
   "name": "python3"
  },
  "language_info": {
   "codemirror_mode": {
    "name": "ipython",
    "version": 3
   },
   "file_extension": ".py",
   "mimetype": "text/x-python",
   "name": "python",
   "nbconvert_exporter": "python",
   "pygments_lexer": "ipython3",
   "version": "3.11.5"
  }
 },
 "nbformat": 4,
 "nbformat_minor": 5
}
