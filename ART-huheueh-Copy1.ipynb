{
 "cells": [
  {
   "cell_type": "code",
   "execution_count": 27,
   "id": "eb5e1ccc",
   "metadata": {},
   "outputs": [],
   "source": [
    "import torch \n",
    "import torch.nn as nn\n",
    "import torch.nn.functional as F\n",
    "\n",
    "import torchvision\n",
    "import torchvision.transforms as transforms\n",
    "from torchvision.datasets import ImageFolder\n",
    "import numpy\n",
    "from torchsummary import summary"
   ]
  },
  {
   "cell_type": "code",
   "execution_count": 28,
   "id": "113e4262",
   "metadata": {},
   "outputs": [],
   "source": [
    "import matplotlib.pyplot as plt\n",
    "import os\n",
    "from PIL import Image\n",
    "import random"
   ]
  },
  {
   "cell_type": "code",
   "execution_count": 29,
   "id": "981f49fa",
   "metadata": {},
   "outputs": [
    {
     "name": "stderr",
     "output_type": "stream",
     "text": [
      "|"
     ]
    },
    {
     "name": "stdout",
     "output_type": "stream",
     "text": [
      "Opening dataset in read-only mode as you don't have write permissions.\n"
     ]
    },
    {
     "name": "stderr",
     "output_type": "stream",
     "text": [
      "-"
     ]
    },
    {
     "name": "stdout",
     "output_type": "stream",
     "text": [
      "This dataset can be visualized in Jupyter Notebook by ds.visualize() or at https://app.activeloop.ai/activeloop/wiki-art\n",
      "\n"
     ]
    },
    {
     "name": "stderr",
     "output_type": "stream",
     "text": [
      "\\"
     ]
    },
    {
     "name": "stdout",
     "output_type": "stream",
     "text": [
      "hub://activeloop/wiki-art loaded successfully.\n",
      "\n"
     ]
    },
    {
     "name": "stderr",
     "output_type": "stream",
     "text": [
      "\r",
      " \r",
      "\r",
      "\r"
     ]
    }
   ],
   "source": [
    "import deeplake\n",
    "ds = deeplake.load('hub://activeloop/wiki-art')"
   ]
  },
  {
   "cell_type": "code",
   "execution_count": 30,
   "id": "154ce3d6",
   "metadata": {},
   "outputs": [],
   "source": [
    "tform = transforms.Compose([\n",
    "    transforms.ToPILImage(), # Must convert to PIL image for subsequent operations to run\n",
    "    transforms.ToTensor(),\n",
    "    transforms.Resize((600,600)),\n",
    "])\n",
    "\n",
    "dataloader= ds.pytorch(batch_size=16, num_workers=2, \n",
    "    transform = {'images': tform, 'labels': None}, shuffle=True)"
   ]
  },
  {
   "cell_type": "code",
   "execution_count": 31,
   "id": "3d2de835",
   "metadata": {},
   "outputs": [
    {
     "data": {
      "text/plain": [
       "81433"
      ]
     },
     "execution_count": 31,
     "metadata": {},
     "output_type": "execute_result"
    }
   ],
   "source": [
    "len_data = len(dataloader.dataset)\n",
    "len_data"
   ]
  },
  {
   "cell_type": "code",
   "execution_count": 32,
   "id": "1c77a8f1",
   "metadata": {},
   "outputs": [
    {
     "name": "stderr",
     "output_type": "stream",
     "text": [
      "\n",
      "\n",
      "Please wait, filling up the shuffle buffer with samples.:   0%| | 0.00/1.91G [00\u001b[A\u001b[AException ignored in: Exception ignored in: <function _MultiProcessingDataLoaderIter.__del__ at 0x10f4e4d60><function _MultiProcessingDataLoaderIter.__del__ at 0x10f4e4d60>\n",
      "\n",
      "Traceback (most recent call last):\n",
      "Traceback (most recent call last):\n",
      "  File \"/Users/sarthakkapila/anaconda3/lib/python3.11/site-packages/torch/utils/data/dataloader.py\", line 1479, in __del__\n",
      "  File \"/Users/sarthakkapila/anaconda3/lib/python3.11/site-packages/torch/utils/data/dataloader.py\", line 1479, in __del__\n",
      "        self._shutdown_workers()self._shutdown_workers()\n",
      "\n",
      "  File \"/Users/sarthakkapila/anaconda3/lib/python3.11/site-packages/torch/utils/data/dataloader.py\", line 1462, in _shutdown_workers\n",
      "  File \"/Users/sarthakkapila/anaconda3/lib/python3.11/site-packages/torch/utils/data/dataloader.py\", line 1462, in _shutdown_workers\n",
      "        if w.is_alive():if w.is_alive():\n",
      "\n",
      "              ^^^^^^^^^^^^^^^^^^^^^^^^\n",
      "\n",
      "  File \"/Users/sarthakkapila/anaconda3/lib/python3.11/multiprocessing/process.py\", line 160, in is_alive\n",
      "  File \"/Users/sarthakkapila/anaconda3/lib/python3.11/multiprocessing/process.py\", line 160, in is_alive\n",
      "        assert self._parent_pid == os.getpid(), 'can only test a child process'assert self._parent_pid == os.getpid(), 'can only test a child process'\n",
      "\n",
      "                      ^^^^^^^^^^^^^^^^^^^^^^^^^^^^^^^^^^^^^^^^^^^^^^^^^^^^^^^^^^^^^\n",
      "^AssertionError\n",
      "AssertionError: can only test a child process: \n",
      "can only test a child process\n",
      "Please wait, filling up the shuffle buffer with samples.:   0%| | 0.00/1.91G [00\n",
      "Please wait, filling up the shuffle buffer with samples.:   0%| | 0.00/1.91G [00\n",
      "\n",
      "\n",
      "Please wait, filling up the shuffle buffer with samples.:   0%| | 4.12M/1.91G [0\u001b[A\u001b[A\n",
      "\n",
      "Please wait, filling up the shuffle buffer with samples.:   7%| | 136M/1.91G [00\u001b[A\u001b[A\n",
      "\n",
      "Please wait, filling up the shuffle buffer with samples.:  14%|▏| 268M/1.91G [00\u001b[A\u001b[A\n",
      "\n",
      "Please wait, filling up the shuffle buffer with samples.:  20%|▏| 400M/1.91G [00\u001b[A\u001b[A\n",
      "\n",
      "Please wait, filling up the shuffle buffer with samples.:  27%|▎| 531M/1.91G [00\u001b[A\u001b[A\n",
      "\n",
      "Please wait, filling up the shuffle buffer with samples.:  34%|▎| 663M/1.91G [00\u001b[A\u001b[A\n",
      "\n",
      "Please wait, filling up the shuffle buffer with samples.:  41%|▍| 795M/1.91G [00\u001b[A\u001b[A\n",
      "\n",
      "Please wait, filling up the shuffle buffer with samples.:  44%|▍| 861M/1.91G [00\u001b[A\u001b[A\n",
      "\n",
      "Please wait, filling up the shuffle buffer with samples.:  51%|▌| 993M/1.91G [01\u001b[A\u001b[A\n",
      "\n",
      "Please wait, filling up the shuffle buffer with samples.:  58%|▌| 1.10G/1.91G [0\u001b[A\u001b[A\n",
      "\n",
      "Please wait, filling up the shuffle buffer with samples.:  64%|▋| 1.23G/1.91G [0\u001b[A\u001b[A\n",
      "\n",
      "Please wait, filling up the shuffle buffer with samples.:  71%|▋| 1.36G/1.91G [0\u001b[A\u001b[A\n",
      "\n",
      "Please wait, filling up the shuffle buffer with samples.:  78%|▊| 1.48G/1.91G [0\u001b[A\u001b[A\n",
      "\n",
      "Please wait, filling up the shuffle buffer with samples.:  81%|▊| 1.54G/1.91G [0\u001b[A\u001b[A\n",
      "\n",
      "Please wait, filling up the shuffle buffer with samples.:  81%|▊| 1.55G/1.91G [0\u001b[A\u001b[A\n",
      "\n",
      "Please wait, filling up the shuffle buffer with samples.:  88%|▉| 1.68G/1.91G [0\u001b[A\u001b[A\n",
      "\n",
      "Please wait, filling up the shuffle buffer with samples.: 100%|▉| 1.91G/1.91G [0\u001b[A\u001b[A\n"
     ]
    },
    {
     "name": "stdout",
     "output_type": "stream",
     "text": [
      "Shuffle buffer filling is complete.\n",
      "IterableOrderedDict([('images', tensor([[[[0.2752, 0.2854, 0.2994,  ..., 0.2093, 0.1799, 0.1885],\n",
      "          [0.2277, 0.2334, 0.2538,  ..., 0.2075, 0.1690, 0.1703],\n",
      "          [0.1870, 0.1861, 0.2119,  ..., 0.1941, 0.1608, 0.1640],\n",
      "          ...,\n",
      "          [0.4216, 0.4610, 0.4088,  ..., 0.5116, 0.5233, 0.5467],\n",
      "          [0.4376, 0.4484, 0.4273,  ..., 0.5310, 0.5070, 0.4978],\n",
      "          [0.4824, 0.4696, 0.4828,  ..., 0.5547, 0.5045, 0.4660]],\n",
      "\n",
      "         [[0.2046, 0.2148, 0.2291,  ..., 0.1623, 0.1341, 0.1484],\n",
      "          [0.1571, 0.1628, 0.1835,  ..., 0.1604, 0.1232, 0.1302],\n",
      "          [0.1164, 0.1155, 0.1416,  ..., 0.1470, 0.1150, 0.1239],\n",
      "          ...,\n",
      "          [0.2708, 0.2957, 0.2243,  ..., 0.3632, 0.3730, 0.3934],\n",
      "          [0.2760, 0.2832, 0.2492,  ..., 0.3792, 0.3526, 0.3377],\n",
      "          [0.3115, 0.2931, 0.3051,  ..., 0.4002, 0.3441, 0.3016]],\n",
      "\n",
      "         [[0.1889, 0.1996, 0.2196,  ..., 0.1765, 0.1418, 0.1491],\n",
      "          [0.1415, 0.1475, 0.1740,  ..., 0.1746, 0.1309, 0.1309],\n",
      "          [0.1007, 0.1002, 0.1321,  ..., 0.1612, 0.1227, 0.1246],\n",
      "          ...,\n",
      "          [0.1924, 0.2145, 0.1355,  ..., 0.3490, 0.3514, 0.3671],\n",
      "          [0.1966, 0.1981, 0.1610,  ..., 0.3621, 0.3337, 0.3179],\n",
      "          [0.2273, 0.2108, 0.2201,  ..., 0.3814, 0.3270, 0.2789]]],\n",
      "\n",
      "\n",
      "        [[[0.4320, 0.4658, 0.4389,  ..., 0.0740, 0.0808, 0.0942],\n",
      "          [0.4977, 0.5411, 0.5095,  ..., 0.0594, 0.0616, 0.0688],\n",
      "          [0.5508, 0.6102, 0.5735,  ..., 0.1299, 0.1220, 0.1137],\n",
      "          ...,\n",
      "          [0.8683, 0.8470, 0.8597,  ..., 0.2315, 0.2474, 0.2663],\n",
      "          [0.8480, 0.8341, 0.8485,  ..., 0.1692, 0.1976, 0.2259],\n",
      "          [0.7746, 0.7639, 0.7768,  ..., 0.0551, 0.0916, 0.1326]],\n",
      "\n",
      "         [[0.4163, 0.4502, 0.4232,  ..., 0.0711, 0.0667, 0.0637],\n",
      "          [0.4821, 0.5254, 0.4939,  ..., 0.0589, 0.0497, 0.0424],\n",
      "          [0.5351, 0.5945, 0.5578,  ..., 0.1332, 0.1138, 0.0940],\n",
      "          ...,\n",
      "          [0.8251, 0.8039, 0.8165,  ..., 0.2541, 0.2690, 0.2864],\n",
      "          [0.8049, 0.7910, 0.8054,  ..., 0.1873, 0.2133, 0.2428],\n",
      "          [0.7314, 0.7207, 0.7337,  ..., 0.0686, 0.1073, 0.1453]],\n",
      "\n",
      "         [[0.3692, 0.4031, 0.3761,  ..., 0.0515, 0.0377, 0.0284],\n",
      "          [0.4350, 0.4783, 0.4468,  ..., 0.0393, 0.0207, 0.0092],\n",
      "          [0.4881, 0.5474, 0.5108,  ..., 0.1128, 0.0840, 0.0572],\n",
      "          ...,\n",
      "          [0.7467, 0.7254, 0.7381,  ..., 0.3039, 0.3063, 0.3123],\n",
      "          [0.7265, 0.7126, 0.7270,  ..., 0.2395, 0.2534, 0.2700],\n",
      "          [0.6530, 0.6423, 0.6552,  ..., 0.1223, 0.1474, 0.1747]]],\n",
      "\n",
      "\n",
      "        [[[0.6314, 0.6232, 0.6138,  ..., 0.6824, 0.6800, 0.6745],\n",
      "          [0.6196, 0.6196, 0.6225,  ..., 0.6986, 0.6940, 0.6804],\n",
      "          [0.5814, 0.5825, 0.5888,  ..., 0.6960, 0.6884, 0.6641],\n",
      "          ...,\n",
      "          [0.3654, 0.3956, 0.4095,  ..., 0.4918, 0.4904, 0.4529],\n",
      "          [0.3892, 0.4124, 0.4346,  ..., 0.4988, 0.5048, 0.4755],\n",
      "          [0.3922, 0.4276, 0.4624,  ..., 0.5063, 0.5210, 0.5020]],\n",
      "\n",
      "         [[0.5725, 0.5644, 0.5492,  ..., 0.5725, 0.5702, 0.5647],\n",
      "          [0.5608, 0.5608, 0.5579,  ..., 0.5888, 0.5842, 0.5706],\n",
      "          [0.5248, 0.5244, 0.5253,  ..., 0.5862, 0.5785, 0.5542],\n",
      "          ...,\n",
      "          [0.3497, 0.3799, 0.3899,  ..., 0.4331, 0.4394, 0.4020],\n",
      "          [0.3735, 0.3967, 0.4151,  ..., 0.4402, 0.4538, 0.4245],\n",
      "          [0.3765, 0.4119, 0.4429,  ..., 0.4476, 0.4701, 0.4510]],\n",
      "\n",
      "         [[0.4039, 0.3957, 0.3864,  ..., 0.4235, 0.4172, 0.4118],\n",
      "          [0.3922, 0.3922, 0.3950,  ..., 0.4397, 0.4313, 0.4176],\n",
      "          [0.3516, 0.3544, 0.3591,  ..., 0.4371, 0.4256, 0.4013],\n",
      "          ...,\n",
      "          [0.3026, 0.3328, 0.3429,  ..., 0.3645, 0.3740, 0.3392],\n",
      "          [0.3265, 0.3496, 0.3680,  ..., 0.3716, 0.3883, 0.3618],\n",
      "          [0.3294, 0.3648, 0.3958,  ..., 0.3790, 0.4046, 0.3882]]],\n",
      "\n",
      "\n",
      "        ...,\n",
      "\n",
      "\n",
      "        [[[0.2611, 0.2517, 0.2727,  ..., 0.4210, 0.4160, 0.4059],\n",
      "          [0.2802, 0.2726, 0.2884,  ..., 0.4214, 0.4364, 0.4443],\n",
      "          [0.3002, 0.2995, 0.3100,  ..., 0.4241, 0.4656, 0.4938],\n",
      "          ...,\n",
      "          [0.2553, 0.1735, 0.0769,  ..., 0.1899, 0.2055, 0.1431],\n",
      "          [0.2838, 0.1937, 0.0833,  ..., 0.2141, 0.2380, 0.1746],\n",
      "          [0.2983, 0.2062, 0.0839,  ..., 0.2205, 0.2485, 0.1851]],\n",
      "\n",
      "         [[0.2494, 0.2409, 0.2648,  ..., 0.4170, 0.4091, 0.3980],\n",
      "          [0.2684, 0.2618, 0.2805,  ..., 0.4175, 0.4295, 0.4364],\n",
      "          [0.2836, 0.2897, 0.3022,  ..., 0.4191, 0.4612, 0.4874],\n",
      "          ...,\n",
      "          [0.2307, 0.1676, 0.0966,  ..., 0.2305, 0.2323, 0.1629],\n",
      "          [0.2545, 0.1851, 0.0997,  ..., 0.2553, 0.2648, 0.1944],\n",
      "          [0.2668, 0.1920, 0.0997,  ..., 0.2664, 0.2753, 0.2049]],\n",
      "\n",
      "         [[0.1241, 0.1023, 0.1158,  ..., 0.4039, 0.4101, 0.4063],\n",
      "          [0.1431, 0.1233, 0.1297,  ..., 0.4038, 0.4305, 0.4408],\n",
      "          [0.1535, 0.1439, 0.1501,  ..., 0.4016, 0.4533, 0.4870],\n",
      "          ...,\n",
      "          [0.1974, 0.1703, 0.1411,  ..., 0.3030, 0.3076, 0.2412],\n",
      "          [0.2122, 0.1822, 0.1509,  ..., 0.3276, 0.3402, 0.2728],\n",
      "          [0.2177, 0.1894, 0.1561,  ..., 0.3369, 0.3506, 0.2832]]],\n",
      "\n",
      "\n",
      "        [[[0.7223, 0.7284, 0.7192,  ..., 0.8698, 0.8408, 0.8409],\n",
      "          [0.7162, 0.7287, 0.7293,  ..., 0.8556, 0.8260, 0.8268],\n",
      "          [0.7251, 0.7211, 0.7196,  ..., 0.8345, 0.8127, 0.8199],\n",
      "          ...,\n",
      "          [0.5143, 0.5035, 0.5128,  ..., 0.1854, 0.1932, 0.1904],\n",
      "          [0.5209, 0.5082, 0.5144,  ..., 0.1729, 0.1882, 0.1983],\n",
      "          [0.5191, 0.5306, 0.5332,  ..., 0.1615, 0.1986, 0.2173]],\n",
      "\n",
      "         [[0.7223, 0.7284, 0.7174,  ..., 0.8568, 0.8345, 0.8445],\n",
      "          [0.7103, 0.7223, 0.7253,  ..., 0.8426, 0.8195, 0.8289],\n",
      "          [0.7145, 0.7104, 0.7079,  ..., 0.8212, 0.8056, 0.8161],\n",
      "          ...,\n",
      "          [0.4521, 0.4415, 0.4551,  ..., 0.1572, 0.1636, 0.1603],\n",
      "          [0.4758, 0.4635, 0.4680,  ..., 0.1263, 0.1416, 0.1517],\n",
      "          [0.4922, 0.5012, 0.4975,  ..., 0.1035, 0.1391, 0.1578]],\n",
      "\n",
      "         [[0.6815, 0.6936, 0.6914,  ..., 0.8305, 0.7870, 0.7779],\n",
      "          [0.6606, 0.6781, 0.6884,  ..., 0.8112, 0.7696, 0.7606],\n",
      "          [0.6472, 0.6499, 0.6590,  ..., 0.7812, 0.7491, 0.7413],\n",
      "          ...,\n",
      "          [0.2857, 0.2658, 0.2592,  ..., 0.1711, 0.1832, 0.1839],\n",
      "          [0.3086, 0.2856, 0.2705,  ..., 0.1291, 0.1486, 0.1599],\n",
      "          [0.3025, 0.3040, 0.2822,  ..., 0.0978, 0.1391, 0.1578]]],\n",
      "\n",
      "\n",
      "        [[[0.7024, 0.5775, 0.6181,  ..., 0.6968, 0.7078, 0.7213],\n",
      "          [0.6849, 0.5569, 0.5631,  ..., 0.6239, 0.7089, 0.7137],\n",
      "          [0.6531, 0.5649, 0.5333,  ..., 0.6233, 0.6853, 0.6972],\n",
      "          ...,\n",
      "          [0.5964, 0.5320, 0.5592,  ..., 0.5308, 0.4935, 0.5243],\n",
      "          [0.6230, 0.5140, 0.5271,  ..., 0.5254, 0.4917, 0.4952],\n",
      "          [0.5237, 0.5051, 0.5362,  ..., 0.4811, 0.4716, 0.4988]],\n",
      "\n",
      "         [[0.7293, 0.6057, 0.6455,  ..., 0.5880, 0.6122, 0.6222],\n",
      "          [0.7143, 0.5988, 0.6099,  ..., 0.5163, 0.6104, 0.6005],\n",
      "          [0.6754, 0.6112, 0.5948,  ..., 0.5160, 0.5854, 0.5872],\n",
      "          ...,\n",
      "          [0.4941, 0.4282, 0.4416,  ..., 0.4406, 0.4045, 0.4385],\n",
      "          [0.5115, 0.4004, 0.3985,  ..., 0.4397, 0.4077, 0.4150],\n",
      "          [0.4113, 0.3903, 0.4118,  ..., 0.4046, 0.3952, 0.4292]],\n",
      "\n",
      "         [[0.6719, 0.5541, 0.6066,  ..., 0.4912, 0.5084, 0.5309],\n",
      "          [0.6679, 0.5525, 0.5781,  ..., 0.4237, 0.5151, 0.5162],\n",
      "          [0.6427, 0.5705, 0.5671,  ..., 0.4288, 0.4988, 0.5099],\n",
      "          ...,\n",
      "          [0.3614, 0.2915, 0.3092,  ..., 0.3162, 0.2867, 0.3408],\n",
      "          [0.3787, 0.2578, 0.2601,  ..., 0.3183, 0.2899, 0.3049],\n",
      "          [0.2588, 0.2362, 0.2605,  ..., 0.2854, 0.2825, 0.3158]]]])), ('labels', tensor([[23],\n",
      "        [ 9],\n",
      "        [24],\n",
      "        [ 4],\n",
      "        [ 4],\n",
      "        [ 9],\n",
      "        [24],\n",
      "        [ 9],\n",
      "        [ 9],\n",
      "        [ 9],\n",
      "        [24],\n",
      "        [24],\n",
      "        [ 4],\n",
      "        [ 4],\n",
      "        [24],\n",
      "        [12]]))])\n"
     ]
    }
   ],
   "source": [
    "for data in dataloader:\n",
    "    print(data)    \n",
    "    \n",
    "    break"
   ]
  },
  {
   "cell_type": "code",
   "execution_count": 21,
   "id": "8ed1322d",
   "metadata": {},
   "outputs": [],
   "source": [
    "channels = 3\n",
    "kernel1 = 5\n",
    "kernel2 = 5 \n",
    "\n",
    "kernel1_n = 16\n",
    "kernel2_n = 32\n",
    "\n",
    "stride = 1\n",
    "padding = 0\n",
    "\n",
    "kernel_pool = 2\n",
    "n_linear = 64                              \n",
    "input_height = 600\n",
    "input_width = 600\n",
    "\n",
    "conv_layer = nn.Sequential(\n",
    "            nn.Conv2d(in_channels=channels, out_channels=kernel1_n, kernel_size=kernel1, stride=stride, padding=padding, bias=True),\n",
    "            nn.ReLU(),\n",
    "            nn.MaxPool2d(kernel_size=kernel_pool, stride=None, padding=0, dilation=1),\n",
    "    \n",
    "#             nn.Conv2d(in_channels=16, out_channels=32, kernel_size=(5,5), stride=1, padding=0, bias=True),\n",
    "#             nn.Sigmoid(),\n",
    "#             nn.MaxPool2d(kernel_size=kernel_pool, stride=None, padding=0, dilation=1),\n",
    ")\n",
    "\n",
    "conv_output_height = ((input_height - kernel1 + 2*padding) // stride + 1) // kernel_pool\n",
    "conv_output_width = ((input_width - kernel1 + 2*padding) // stride + 1) // kernel_pool\n",
    "\n",
    "linear_layer = nn.Linear(in_features= kernel1_n * conv_output_height * conv_output_width, out_features=n_linear)\n",
    "\n",
    "\n",
    "model = nn.Sequential(\n",
    "    conv_layer,\n",
    "    nn.Flatten(),\n",
    "    linear_layer\n",
    ")\n",
    "\n",
    "criterion = nn.CrossEntropyLoss()\n",
    "optimizer = torch.optim.Adam(model.parameters(), lr=0.001)  # Adam optimizer with learning rate 0.001 (for now)"
   ]
  },
  {
   "cell_type": "code",
   "execution_count": 24,
   "id": "0a9a1e69",
   "metadata": {},
   "outputs": [
    {
     "name": "stdout",
     "output_type": "stream",
     "text": [
      "----------------------------------------------------------------\n",
      "        Layer (type)               Output Shape         Param #\n",
      "================================================================\n",
      "            Conv2d-1         [-1, 16, 596, 596]           1,216\n",
      "              ReLU-2         [-1, 16, 596, 596]               0\n",
      "         MaxPool2d-3         [-1, 16, 298, 298]               0\n",
      "           Flatten-4              [-1, 1420864]               0\n",
      "            Linear-5                   [-1, 64]      90,935,360\n",
      "================================================================\n",
      "Total params: 90,936,576\n",
      "Trainable params: 90,936,576\n",
      "Non-trainable params: 0\n",
      "----------------------------------------------------------------\n",
      "Input size (MB): 4.12\n",
      "Forward/backward pass size (MB): 108.40\n",
      "Params size (MB): 346.90\n",
      "Estimated Total Size (MB): 459.42\n",
      "----------------------------------------------------------------\n"
     ]
    },
    {
     "data": {
      "text/plain": [
       "(None,\n",
       " Sequential(\n",
       "   (0): Sequential(\n",
       "     (0): Conv2d(3, 16, kernel_size=(5, 5), stride=(1, 1))\n",
       "     (1): ReLU()\n",
       "     (2): MaxPool2d(kernel_size=2, stride=2, padding=0, dilation=1, ceil_mode=False)\n",
       "   )\n",
       "   (1): Flatten(start_dim=1, end_dim=-1)\n",
       "   (2): Linear(in_features=1420864, out_features=64, bias=True)\n",
       " ))"
      ]
     },
     "execution_count": 24,
     "metadata": {},
     "output_type": "execute_result"
    }
   ],
   "source": [
    "device = torch.device(\"cuda\" if torch.cuda.is_available() else \"cpu\")\n",
    "model.to(device)\n",
    "\n",
    "\n",
    "summary(model, input_size=(3, 600 , 600)), model\n"
   ]
  },
  {
   "cell_type": "code",
   "execution_count": 26,
   "id": "94cd13f3",
   "metadata": {},
   "outputs": [
    {
     "name": "stderr",
     "output_type": "stream",
     "text": [
      "\n",
      "Please wait, filling up the shuffle buffer with samples.:   0%| | 0.00/1.91G [00\u001b[AERROR: Unexpected segmentation fault encountered in worker.\n",
      "\u0000ERROR: Unexpected segmentation fault encountered in worker.\n",
      "\u0000"
     ]
    },
    {
     "ename": "RuntimeError",
     "evalue": "DataLoader worker (pid(s) 44328, 44329) exited unexpectedly",
     "output_type": "error",
     "traceback": [
      "\u001b[0;31m---------------------------------------------------------------------------\u001b[0m",
      "\u001b[0;31mRuntimeError\u001b[0m                              Traceback (most recent call last)",
      "File \u001b[0;32m~/anaconda3/lib/python3.11/site-packages/torch/utils/data/dataloader.py:1133\u001b[0m, in \u001b[0;36m_MultiProcessingDataLoaderIter._try_get_data\u001b[0;34m(self, timeout)\u001b[0m\n\u001b[1;32m   1132\u001b[0m \u001b[38;5;28;01mtry\u001b[39;00m:\n\u001b[0;32m-> 1133\u001b[0m     data \u001b[38;5;241m=\u001b[39m \u001b[38;5;28mself\u001b[39m\u001b[38;5;241m.\u001b[39m_data_queue\u001b[38;5;241m.\u001b[39mget(timeout\u001b[38;5;241m=\u001b[39mtimeout)\n\u001b[1;32m   1134\u001b[0m     \u001b[38;5;28;01mreturn\u001b[39;00m (\u001b[38;5;28;01mTrue\u001b[39;00m, data)\n",
      "File \u001b[0;32m~/anaconda3/lib/python3.11/multiprocessing/queues.py:113\u001b[0m, in \u001b[0;36mQueue.get\u001b[0;34m(self, block, timeout)\u001b[0m\n\u001b[1;32m    112\u001b[0m timeout \u001b[38;5;241m=\u001b[39m deadline \u001b[38;5;241m-\u001b[39m time\u001b[38;5;241m.\u001b[39mmonotonic()\n\u001b[0;32m--> 113\u001b[0m \u001b[38;5;28;01mif\u001b[39;00m \u001b[38;5;129;01mnot\u001b[39;00m \u001b[38;5;28mself\u001b[39m\u001b[38;5;241m.\u001b[39m_poll(timeout):\n\u001b[1;32m    114\u001b[0m     \u001b[38;5;28;01mraise\u001b[39;00m Empty\n",
      "File \u001b[0;32m~/anaconda3/lib/python3.11/multiprocessing/connection.py:256\u001b[0m, in \u001b[0;36m_ConnectionBase.poll\u001b[0;34m(self, timeout)\u001b[0m\n\u001b[1;32m    255\u001b[0m \u001b[38;5;28mself\u001b[39m\u001b[38;5;241m.\u001b[39m_check_readable()\n\u001b[0;32m--> 256\u001b[0m \u001b[38;5;28;01mreturn\u001b[39;00m \u001b[38;5;28mself\u001b[39m\u001b[38;5;241m.\u001b[39m_poll(timeout)\n",
      "File \u001b[0;32m~/anaconda3/lib/python3.11/multiprocessing/connection.py:423\u001b[0m, in \u001b[0;36mConnection._poll\u001b[0;34m(self, timeout)\u001b[0m\n\u001b[1;32m    422\u001b[0m \u001b[38;5;28;01mdef\u001b[39;00m \u001b[38;5;21m_poll\u001b[39m(\u001b[38;5;28mself\u001b[39m, timeout):\n\u001b[0;32m--> 423\u001b[0m     r \u001b[38;5;241m=\u001b[39m wait([\u001b[38;5;28mself\u001b[39m], timeout)\n\u001b[1;32m    424\u001b[0m     \u001b[38;5;28;01mreturn\u001b[39;00m \u001b[38;5;28mbool\u001b[39m(r)\n",
      "File \u001b[0;32m~/anaconda3/lib/python3.11/multiprocessing/connection.py:930\u001b[0m, in \u001b[0;36mwait\u001b[0;34m(object_list, timeout)\u001b[0m\n\u001b[1;32m    929\u001b[0m \u001b[38;5;28;01mwhile\u001b[39;00m \u001b[38;5;28;01mTrue\u001b[39;00m:\n\u001b[0;32m--> 930\u001b[0m     ready \u001b[38;5;241m=\u001b[39m selector\u001b[38;5;241m.\u001b[39mselect(timeout)\n\u001b[1;32m    931\u001b[0m     \u001b[38;5;28;01mif\u001b[39;00m ready:\n",
      "File \u001b[0;32m~/anaconda3/lib/python3.11/selectors.py:415\u001b[0m, in \u001b[0;36m_PollLikeSelector.select\u001b[0;34m(self, timeout)\u001b[0m\n\u001b[1;32m    414\u001b[0m \u001b[38;5;28;01mtry\u001b[39;00m:\n\u001b[0;32m--> 415\u001b[0m     fd_event_list \u001b[38;5;241m=\u001b[39m \u001b[38;5;28mself\u001b[39m\u001b[38;5;241m.\u001b[39m_selector\u001b[38;5;241m.\u001b[39mpoll(timeout)\n\u001b[1;32m    416\u001b[0m \u001b[38;5;28;01mexcept\u001b[39;00m \u001b[38;5;167;01mInterruptedError\u001b[39;00m:\n",
      "File \u001b[0;32m~/anaconda3/lib/python3.11/site-packages/torch/utils/data/_utils/signal_handling.py:66\u001b[0m, in \u001b[0;36m_set_SIGCHLD_handler.<locals>.handler\u001b[0;34m(signum, frame)\u001b[0m\n\u001b[1;32m     63\u001b[0m \u001b[38;5;28;01mdef\u001b[39;00m \u001b[38;5;21mhandler\u001b[39m(signum, frame):\n\u001b[1;32m     64\u001b[0m     \u001b[38;5;66;03m# This following call uses `waitid` with WNOHANG from C side. Therefore,\u001b[39;00m\n\u001b[1;32m     65\u001b[0m     \u001b[38;5;66;03m# Python can still get and update the process status successfully.\u001b[39;00m\n\u001b[0;32m---> 66\u001b[0m     _error_if_any_worker_fails()\n\u001b[1;32m     67\u001b[0m     \u001b[38;5;28;01mif\u001b[39;00m previous_handler \u001b[38;5;129;01mis\u001b[39;00m \u001b[38;5;129;01mnot\u001b[39;00m \u001b[38;5;28;01mNone\u001b[39;00m:\n",
      "\u001b[0;31mRuntimeError\u001b[0m: DataLoader worker (pid 44328) is killed by signal: Segmentation fault: 11. ",
      "\nThe above exception was the direct cause of the following exception:\n",
      "\u001b[0;31mRuntimeError\u001b[0m                              Traceback (most recent call last)",
      "Cell \u001b[0;32mIn[26], line 5\u001b[0m\n\u001b[1;32m      2\u001b[0m losses \u001b[38;5;241m=\u001b[39m []\n\u001b[1;32m      4\u001b[0m \u001b[38;5;28;01mfor\u001b[39;00m epoch \u001b[38;5;129;01min\u001b[39;00m \u001b[38;5;28mrange\u001b[39m(max_steps):  \n\u001b[0;32m----> 5\u001b[0m     \u001b[38;5;28;01mfor\u001b[39;00m i, (images, labels) \u001b[38;5;129;01min\u001b[39;00m \u001b[38;5;28menumerate\u001b[39m(dataloader):\n\u001b[1;32m      7\u001b[0m         outputs \u001b[38;5;241m=\u001b[39m model(images)\n\u001b[1;32m      8\u001b[0m         loss \u001b[38;5;241m=\u001b[39m criterion(outputs, labels)\n",
      "File \u001b[0;32m~/anaconda3/lib/python3.11/site-packages/torch/utils/data/dataloader.py:631\u001b[0m, in \u001b[0;36m_BaseDataLoaderIter.__next__\u001b[0;34m(self)\u001b[0m\n\u001b[1;32m    628\u001b[0m \u001b[38;5;28;01mif\u001b[39;00m \u001b[38;5;28mself\u001b[39m\u001b[38;5;241m.\u001b[39m_sampler_iter \u001b[38;5;129;01mis\u001b[39;00m \u001b[38;5;28;01mNone\u001b[39;00m:\n\u001b[1;32m    629\u001b[0m     \u001b[38;5;66;03m# TODO(https://github.com/pytorch/pytorch/issues/76750)\u001b[39;00m\n\u001b[1;32m    630\u001b[0m     \u001b[38;5;28mself\u001b[39m\u001b[38;5;241m.\u001b[39m_reset()  \u001b[38;5;66;03m# type: ignore[call-arg]\u001b[39;00m\n\u001b[0;32m--> 631\u001b[0m data \u001b[38;5;241m=\u001b[39m \u001b[38;5;28mself\u001b[39m\u001b[38;5;241m.\u001b[39m_next_data()\n\u001b[1;32m    632\u001b[0m \u001b[38;5;28mself\u001b[39m\u001b[38;5;241m.\u001b[39m_num_yielded \u001b[38;5;241m+\u001b[39m\u001b[38;5;241m=\u001b[39m \u001b[38;5;241m1\u001b[39m\n\u001b[1;32m    633\u001b[0m \u001b[38;5;28;01mif\u001b[39;00m \u001b[38;5;28mself\u001b[39m\u001b[38;5;241m.\u001b[39m_dataset_kind \u001b[38;5;241m==\u001b[39m _DatasetKind\u001b[38;5;241m.\u001b[39mIterable \u001b[38;5;129;01mand\u001b[39;00m \\\n\u001b[1;32m    634\u001b[0m         \u001b[38;5;28mself\u001b[39m\u001b[38;5;241m.\u001b[39m_IterableDataset_len_called \u001b[38;5;129;01mis\u001b[39;00m \u001b[38;5;129;01mnot\u001b[39;00m \u001b[38;5;28;01mNone\u001b[39;00m \u001b[38;5;129;01mand\u001b[39;00m \\\n\u001b[1;32m    635\u001b[0m         \u001b[38;5;28mself\u001b[39m\u001b[38;5;241m.\u001b[39m_num_yielded \u001b[38;5;241m>\u001b[39m \u001b[38;5;28mself\u001b[39m\u001b[38;5;241m.\u001b[39m_IterableDataset_len_called:\n",
      "File \u001b[0;32m~/anaconda3/lib/python3.11/site-packages/torch/utils/data/dataloader.py:675\u001b[0m, in \u001b[0;36m_SingleProcessDataLoaderIter._next_data\u001b[0;34m(self)\u001b[0m\n\u001b[1;32m    673\u001b[0m \u001b[38;5;28;01mdef\u001b[39;00m \u001b[38;5;21m_next_data\u001b[39m(\u001b[38;5;28mself\u001b[39m):\n\u001b[1;32m    674\u001b[0m     index \u001b[38;5;241m=\u001b[39m \u001b[38;5;28mself\u001b[39m\u001b[38;5;241m.\u001b[39m_next_index()  \u001b[38;5;66;03m# may raise StopIteration\u001b[39;00m\n\u001b[0;32m--> 675\u001b[0m     data \u001b[38;5;241m=\u001b[39m \u001b[38;5;28mself\u001b[39m\u001b[38;5;241m.\u001b[39m_dataset_fetcher\u001b[38;5;241m.\u001b[39mfetch(index)  \u001b[38;5;66;03m# may raise StopIteration\u001b[39;00m\n\u001b[1;32m    676\u001b[0m     \u001b[38;5;28;01mif\u001b[39;00m \u001b[38;5;28mself\u001b[39m\u001b[38;5;241m.\u001b[39m_pin_memory:\n\u001b[1;32m    677\u001b[0m         data \u001b[38;5;241m=\u001b[39m _utils\u001b[38;5;241m.\u001b[39mpin_memory\u001b[38;5;241m.\u001b[39mpin_memory(data, \u001b[38;5;28mself\u001b[39m\u001b[38;5;241m.\u001b[39m_pin_memory_device)\n",
      "File \u001b[0;32m~/anaconda3/lib/python3.11/site-packages/torch/utils/data/_utils/fetch.py:32\u001b[0m, in \u001b[0;36m_IterableDatasetFetcher.fetch\u001b[0;34m(self, possibly_batched_index)\u001b[0m\n\u001b[1;32m     30\u001b[0m \u001b[38;5;28;01mfor\u001b[39;00m _ \u001b[38;5;129;01min\u001b[39;00m possibly_batched_index:\n\u001b[1;32m     31\u001b[0m     \u001b[38;5;28;01mtry\u001b[39;00m:\n\u001b[0;32m---> 32\u001b[0m         data\u001b[38;5;241m.\u001b[39mappend(\u001b[38;5;28mnext\u001b[39m(\u001b[38;5;28mself\u001b[39m\u001b[38;5;241m.\u001b[39mdataset_iter))\n\u001b[1;32m     33\u001b[0m     \u001b[38;5;28;01mexcept\u001b[39;00m \u001b[38;5;167;01mStopIteration\u001b[39;00m:\n\u001b[1;32m     34\u001b[0m         \u001b[38;5;28mself\u001b[39m\u001b[38;5;241m.\u001b[39mended \u001b[38;5;241m=\u001b[39m \u001b[38;5;28;01mTrue\u001b[39;00m\n",
      "File \u001b[0;32m~/anaconda3/lib/python3.11/site-packages/deeplake/integrations/pytorch/dataset.py:225\u001b[0m, in \u001b[0;36mSubIterableDataset.__iter__\u001b[0;34m(self)\u001b[0m\n\u001b[1;32m    223\u001b[0m \u001b[38;5;28;01mtry\u001b[39;00m:\n\u001b[1;32m    224\u001b[0m     \u001b[38;5;28;01mwhile\u001b[39;00m \u001b[38;5;28;01mTrue\u001b[39;00m:\n\u001b[0;32m--> 225\u001b[0m         next_batch \u001b[38;5;241m=\u001b[39m \u001b[38;5;28mnext\u001b[39m(it)\n\u001b[1;32m    226\u001b[0m         \u001b[38;5;28;01mfor\u001b[39;00m val \u001b[38;5;129;01min\u001b[39;00m next_batch:\n\u001b[1;32m    227\u001b[0m             result \u001b[38;5;241m=\u001b[39m buffer\u001b[38;5;241m.\u001b[39mexchange(val)\n",
      "File \u001b[0;32m~/anaconda3/lib/python3.11/site-packages/torch/utils/data/dataloader.py:631\u001b[0m, in \u001b[0;36m_BaseDataLoaderIter.__next__\u001b[0;34m(self)\u001b[0m\n\u001b[1;32m    628\u001b[0m \u001b[38;5;28;01mif\u001b[39;00m \u001b[38;5;28mself\u001b[39m\u001b[38;5;241m.\u001b[39m_sampler_iter \u001b[38;5;129;01mis\u001b[39;00m \u001b[38;5;28;01mNone\u001b[39;00m:\n\u001b[1;32m    629\u001b[0m     \u001b[38;5;66;03m# TODO(https://github.com/pytorch/pytorch/issues/76750)\u001b[39;00m\n\u001b[1;32m    630\u001b[0m     \u001b[38;5;28mself\u001b[39m\u001b[38;5;241m.\u001b[39m_reset()  \u001b[38;5;66;03m# type: ignore[call-arg]\u001b[39;00m\n\u001b[0;32m--> 631\u001b[0m data \u001b[38;5;241m=\u001b[39m \u001b[38;5;28mself\u001b[39m\u001b[38;5;241m.\u001b[39m_next_data()\n\u001b[1;32m    632\u001b[0m \u001b[38;5;28mself\u001b[39m\u001b[38;5;241m.\u001b[39m_num_yielded \u001b[38;5;241m+\u001b[39m\u001b[38;5;241m=\u001b[39m \u001b[38;5;241m1\u001b[39m\n\u001b[1;32m    633\u001b[0m \u001b[38;5;28;01mif\u001b[39;00m \u001b[38;5;28mself\u001b[39m\u001b[38;5;241m.\u001b[39m_dataset_kind \u001b[38;5;241m==\u001b[39m _DatasetKind\u001b[38;5;241m.\u001b[39mIterable \u001b[38;5;129;01mand\u001b[39;00m \\\n\u001b[1;32m    634\u001b[0m         \u001b[38;5;28mself\u001b[39m\u001b[38;5;241m.\u001b[39m_IterableDataset_len_called \u001b[38;5;129;01mis\u001b[39;00m \u001b[38;5;129;01mnot\u001b[39;00m \u001b[38;5;28;01mNone\u001b[39;00m \u001b[38;5;129;01mand\u001b[39;00m \\\n\u001b[1;32m    635\u001b[0m         \u001b[38;5;28mself\u001b[39m\u001b[38;5;241m.\u001b[39m_num_yielded \u001b[38;5;241m>\u001b[39m \u001b[38;5;28mself\u001b[39m\u001b[38;5;241m.\u001b[39m_IterableDataset_len_called:\n",
      "File \u001b[0;32m~/anaconda3/lib/python3.11/site-packages/torch/utils/data/dataloader.py:1329\u001b[0m, in \u001b[0;36m_MultiProcessingDataLoaderIter._next_data\u001b[0;34m(self)\u001b[0m\n\u001b[1;32m   1326\u001b[0m     \u001b[38;5;28;01mreturn\u001b[39;00m \u001b[38;5;28mself\u001b[39m\u001b[38;5;241m.\u001b[39m_process_data(data)\n\u001b[1;32m   1328\u001b[0m \u001b[38;5;28;01massert\u001b[39;00m \u001b[38;5;129;01mnot\u001b[39;00m \u001b[38;5;28mself\u001b[39m\u001b[38;5;241m.\u001b[39m_shutdown \u001b[38;5;129;01mand\u001b[39;00m \u001b[38;5;28mself\u001b[39m\u001b[38;5;241m.\u001b[39m_tasks_outstanding \u001b[38;5;241m>\u001b[39m \u001b[38;5;241m0\u001b[39m\n\u001b[0;32m-> 1329\u001b[0m idx, data \u001b[38;5;241m=\u001b[39m \u001b[38;5;28mself\u001b[39m\u001b[38;5;241m.\u001b[39m_get_data()\n\u001b[1;32m   1330\u001b[0m \u001b[38;5;28mself\u001b[39m\u001b[38;5;241m.\u001b[39m_tasks_outstanding \u001b[38;5;241m-\u001b[39m\u001b[38;5;241m=\u001b[39m \u001b[38;5;241m1\u001b[39m\n\u001b[1;32m   1331\u001b[0m \u001b[38;5;28;01mif\u001b[39;00m \u001b[38;5;28mself\u001b[39m\u001b[38;5;241m.\u001b[39m_dataset_kind \u001b[38;5;241m==\u001b[39m _DatasetKind\u001b[38;5;241m.\u001b[39mIterable:\n\u001b[1;32m   1332\u001b[0m     \u001b[38;5;66;03m# Check for _IterableDatasetStopIteration\u001b[39;00m\n",
      "File \u001b[0;32m~/anaconda3/lib/python3.11/site-packages/torch/utils/data/dataloader.py:1295\u001b[0m, in \u001b[0;36m_MultiProcessingDataLoaderIter._get_data\u001b[0;34m(self)\u001b[0m\n\u001b[1;32m   1291\u001b[0m     \u001b[38;5;66;03m# In this case, `self._data_queue` is a `queue.Queue`,. But we don't\u001b[39;00m\n\u001b[1;32m   1292\u001b[0m     \u001b[38;5;66;03m# need to call `.task_done()` because we don't use `.join()`.\u001b[39;00m\n\u001b[1;32m   1293\u001b[0m \u001b[38;5;28;01melse\u001b[39;00m:\n\u001b[1;32m   1294\u001b[0m     \u001b[38;5;28;01mwhile\u001b[39;00m \u001b[38;5;28;01mTrue\u001b[39;00m:\n\u001b[0;32m-> 1295\u001b[0m         success, data \u001b[38;5;241m=\u001b[39m \u001b[38;5;28mself\u001b[39m\u001b[38;5;241m.\u001b[39m_try_get_data()\n\u001b[1;32m   1296\u001b[0m         \u001b[38;5;28;01mif\u001b[39;00m success:\n\u001b[1;32m   1297\u001b[0m             \u001b[38;5;28;01mreturn\u001b[39;00m data\n",
      "File \u001b[0;32m~/anaconda3/lib/python3.11/site-packages/torch/utils/data/dataloader.py:1146\u001b[0m, in \u001b[0;36m_MultiProcessingDataLoaderIter._try_get_data\u001b[0;34m(self, timeout)\u001b[0m\n\u001b[1;32m   1144\u001b[0m \u001b[38;5;28;01mif\u001b[39;00m \u001b[38;5;28mlen\u001b[39m(failed_workers) \u001b[38;5;241m>\u001b[39m \u001b[38;5;241m0\u001b[39m:\n\u001b[1;32m   1145\u001b[0m     pids_str \u001b[38;5;241m=\u001b[39m \u001b[38;5;124m'\u001b[39m\u001b[38;5;124m, \u001b[39m\u001b[38;5;124m'\u001b[39m\u001b[38;5;241m.\u001b[39mjoin(\u001b[38;5;28mstr\u001b[39m(w\u001b[38;5;241m.\u001b[39mpid) \u001b[38;5;28;01mfor\u001b[39;00m w \u001b[38;5;129;01min\u001b[39;00m failed_workers)\n\u001b[0;32m-> 1146\u001b[0m     \u001b[38;5;28;01mraise\u001b[39;00m \u001b[38;5;167;01mRuntimeError\u001b[39;00m(\u001b[38;5;124mf\u001b[39m\u001b[38;5;124m'\u001b[39m\u001b[38;5;124mDataLoader worker (pid(s) \u001b[39m\u001b[38;5;132;01m{\u001b[39;00mpids_str\u001b[38;5;132;01m}\u001b[39;00m\u001b[38;5;124m) exited unexpectedly\u001b[39m\u001b[38;5;124m'\u001b[39m) \u001b[38;5;28;01mfrom\u001b[39;00m \u001b[38;5;21;01me\u001b[39;00m\n\u001b[1;32m   1147\u001b[0m \u001b[38;5;28;01mif\u001b[39;00m \u001b[38;5;28misinstance\u001b[39m(e, queue\u001b[38;5;241m.\u001b[39mEmpty):\n\u001b[1;32m   1148\u001b[0m     \u001b[38;5;28;01mreturn\u001b[39;00m (\u001b[38;5;28;01mFalse\u001b[39;00m, \u001b[38;5;28;01mNone\u001b[39;00m)\n",
      "\u001b[0;31mRuntimeError\u001b[0m: DataLoader worker (pid(s) 44328, 44329) exited unexpectedly"
     ]
    }
   ],
   "source": [
    "max_steps = 10\n",
    "losses = []\n",
    "\n",
    "for epoch in range(max_steps):  \n",
    "    for i, (images, labels) in enumerate(dataloader):\n",
    "        \n",
    "        outputs = model(images)\n",
    "        loss = criterion(outputs, labels)\n",
    "\n",
    "        optimizer.zero_grad()\n",
    "        loss.backward()\n",
    "        optimizer.step()\n",
    "\n",
    "        losses.append(loss.item()) \n",
    "        \n",
    "        if i % 100 == 0: \n",
    "            print(f'Epoch [{epoch+1}/{max_steps}], Step [{i+1}/{len(dataloader)}], Loss: {loss.item():.4f}')"
   ]
  },
  {
   "cell_type": "code",
   "execution_count": null,
   "id": "1dc8af4b",
   "metadata": {},
   "outputs": [],
   "source": []
  }
 ],
 "metadata": {
  "kernelspec": {
   "display_name": "Python 3 (ipykernel)",
   "language": "python",
   "name": "python3"
  },
  "language_info": {
   "codemirror_mode": {
    "name": "ipython",
    "version": 3
   },
   "file_extension": ".py",
   "mimetype": "text/x-python",
   "name": "python",
   "nbconvert_exporter": "python",
   "pygments_lexer": "ipython3",
   "version": "3.11.5"
  }
 },
 "nbformat": 4,
 "nbformat_minor": 5
}
