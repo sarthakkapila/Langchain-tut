{
  "nbformat": 4,
  "nbformat_minor": 0,
  "metadata": {
    "colab": {
      "provenance": [],
      "authorship_tag": "ABX9TyPaEjo9odbzvyK77YHYYrPK",
      "include_colab_link": true
    },
    "kernelspec": {
      "name": "python3",
      "display_name": "Python 3"
    },
    "language_info": {
      "name": "python"
    }
  },
  "cells": [
    {
      "cell_type": "markdown",
      "metadata": {
        "id": "view-in-github",
        "colab_type": "text"
      },
      "source": [
        "<a href=\"https://colab.research.google.com/github/sarthakkapila/Learning-AI/blob/main/AutoGradEngine.ipynb\" target=\"_parent\"><img src=\"https://colab.research.google.com/assets/colab-badge.svg\" alt=\"Open In Colab\"/></a>"
      ]
    },
    {
      "cell_type": "markdown",
      "source": [
        "# Building an AutoGrad (automatic Differentiation) Engine from scratch"
      ],
      "metadata": {
        "id": "_NJJZ0UJ8L7Z"
      }
    },
    {
      "cell_type": "code",
      "execution_count": 1,
      "metadata": {
        "id": "mnnWMU4uJ2eX"
      },
      "outputs": [],
      "source": [
        "import math\n",
        "import numpy as np\n",
        "import matplotlib.pyplot as plt"
      ]
    },
    {
      "cell_type": "markdown",
      "source": [
        "### Lets look at derivatives first"
      ],
      "metadata": {
        "id": "XVrA1I7s65QA"
      }
    },
    {
      "cell_type": "code",
      "source": [
        "def f(x):\n",
        "  return 3**x + 4*x + 5"
      ],
      "metadata": {
        "id": "Wvq313RL6gbH"
      },
      "execution_count": 3,
      "outputs": []
    },
    {
      "cell_type": "code",
      "source": [
        "f(3.0)"
      ],
      "metadata": {
        "colab": {
          "base_uri": "https://localhost:8080/"
        },
        "id": "RPmAekQV6zUC",
        "outputId": "739c59c6-68ab-4e4b-ab04-498fbb71be2c"
      },
      "execution_count": 4,
      "outputs": [
        {
          "output_type": "execute_result",
          "data": {
            "text/plain": [
              "44.0"
            ]
          },
          "metadata": {},
          "execution_count": 4
        }
      ]
    },
    {
      "cell_type": "code",
      "source": [
        "xs = np.arange(0,5,0.25)\n",
        "ys = f(xs)\n",
        "\n",
        "plt.plot(xs,ys)"
      ],
      "metadata": {
        "colab": {
          "base_uri": "https://localhost:8080/",
          "height": 448
        },
        "id": "TsJ_4Go97Hvp",
        "outputId": "d02ebb7e-e925-42c0-b3c6-3cb2fdd73da4"
      },
      "execution_count": 5,
      "outputs": [
        {
          "output_type": "execute_result",
          "data": {
            "text/plain": [
              "[<matplotlib.lines.Line2D at 0x7afa0e2c4a00>]"
            ]
          },
          "metadata": {},
          "execution_count": 5
        },
        {
          "output_type": "display_data",
          "data": {
            "text/plain": [
              "<Figure size 640x480 with 1 Axes>"
            ],
            "image/png": "[encoded data removed]"
          },
          "metadata": {}
        }
      ]
    },
    {
      "cell_type": "code",
      "source": [
        "# Where h -> infinity\n",
        "h = 0.000001\n",
        "x = 3.0\n",
        "# Where this will represent the slope\n",
        "(f(x) + h) - f(x)/h\n"
      ],
      "metadata": {
        "colab": {
          "base_uri": "https://localhost:8080/"
        },
        "id": "S2MSS48s7ZVM",
        "outputId": "82c2c6c5-a5ca-4ecc-89ca-d85cf4b2f40e"
      },
      "execution_count": 10,
      "outputs": [
        {
          "output_type": "execute_result",
          "data": {
            "text/plain": [
              "-43999955.999999"
            ]
          },
          "metadata": {},
          "execution_count": 10
        }
      ]
    },
    {
      "cell_type": "markdown",
      "source": [
        "### Now we aim to Transform this stuff to handle big data"
      ],
      "metadata": {
        "id": "8g3JOub58eLp"
      }
    },
    {
      "cell_type": "code",
      "source": [
        "class Value:\n",
        "\n",
        "  def __init__(self, data, _children=(), _op='', label = ''):\n",
        "    self.data = data\n",
        "    self.grad = 0.0\n",
        "    self._prev = set(_children)\n",
        "    self._op = _op\n",
        "    self.label = label\n",
        "\n",
        "\n",
        "#  returns a string that represents the object's state\n",
        "  def __repr__(self):\n",
        "    return f\"{self.data}\"\n",
        "\n",
        "  def __add__(self, other):\n",
        "    return Value(self.data + other.data, (self, other), '+')\n",
        "\n",
        "  def __mul__(self, other):\n",
        "    return Value(self.data * other.data, (self, other), '*')\n",
        "\n",
        "  def __sub__(self,other):\n",
        "    return Value(self.data - other.data, (self,other), '*')\n",
        "\n",
        "a = Value(2.0, label='a')\n",
        "b = Value(-3.0, label='b')\n",
        "c = Value(10, label='c')\n",
        "d = a*b; d.label='d'\n",
        "L = d+c; L.label='L'\n",
        "f = Value(-2.0, label='f')\n",
        "L"
      ],
      "metadata": {
        "colab": {
          "base_uri": "https://localhost:8080/"
        },
        "id": "TSYFCihq8z8H",
        "outputId": "2fc6c91e-4186-441a-a0d6-459ce2b9bda3"
      },
      "execution_count": 89,
      "outputs": [
        {
          "output_type": "execute_result",
          "data": {
            "text/plain": [
              "4.0"
            ]
          },
          "metadata": {},
          "execution_count": 89
        }
      ]
    },
    {
      "cell_type": "code",
      "source": [
        "d._prev, d._op\n"
      ],
      "metadata": {
        "colab": {
          "base_uri": "https://localhost:8080/"
        },
        "id": "1yn_kz-g95Ol",
        "outputId": "0b797776-5e93-40be-8a1b-f3034b48a187"
      },
      "execution_count": 44,
      "outputs": [
        {
          "output_type": "execute_result",
          "data": {
            "text/plain": [
              "({-6.0, 10}, '+')"
            ]
          },
          "metadata": {},
          "execution_count": 44
        }
      ]
    },
    {
      "cell_type": "markdown",
      "source": [
        "Visualize"
      ],
      "metadata": {
        "id": "PEXK_hjpAn06"
      }
    },
    {
      "cell_type": "code",
      "source": [
        "from graphviz import Digraph\n",
        "\n",
        "def trace(root):\n",
        "  # builds a set of all nodes and edges in a graph\n",
        "  nodes, edges = set(), set()\n",
        "  def build(v):\n",
        "    if v not in nodes:\n",
        "      nodes.add(v)\n",
        "      for child in v._prev:\n",
        "        edges.add((child, v))\n",
        "        build(child)\n",
        "  build(root)\n",
        "  return nodes, edges\n",
        "\n",
        "def draw_dot(root):\n",
        "  dot = Digraph(format='svg', graph_attr={'rankdir': 'LR'}) # LR = left to right\n",
        "\n",
        "  nodes, edges = trace(root)\n",
        "  for n in nodes:\n",
        "    uid = str(id(n))\n",
        "    # for any value in the graph, create a rectangular ('record') node for it\n",
        "    dot.node(name = uid, label = \"{ %s | data %.4f | grad %.4f }\" % (n.label, n.data, n.grad), shape='record')\n",
        "    if n._op:\n",
        "      # if this value is a result of some operation, create an op node for it\n",
        "      dot.node(name = uid + n._op, label = n._op)\n",
        "      # and connect this node to it\n",
        "      dot.edge(uid + n._op, uid)\n",
        "\n",
        "  for n1, n2 in edges:\n",
        "    # connect n1 to the op node of n2\n",
        "    dot.edge(str(id(n1)), str(id(n2)) + n2._op)\n",
        "\n",
        "  return dot"
      ],
      "metadata": {
        "id": "TUost_TOAmps"
      },
      "execution_count": 79,
      "outputs": []
    },
    {
      "cell_type": "code",
      "source": [
        "draw_dot(L)"
      ],
      "metadata": {
        "colab": {
          "base_uri": "https://localhost:8080/",
          "height": 192
        },
        "id": "8y4iBCUYQigb",
        "outputId": "0306f79b-dcda-4955-c15f-8a168ecf0a24"
      },
      "execution_count": 94,
      "outputs": [
        {
          "output_type": "execute_result",
          "data": {
            "image/svg+xml": "<?xml version=\"1.0\" encoding=\"UTF-8\" standalone=\"no\"?>\n<!DOCTYPE svg PUBLIC \"-//W3C//DTD SVG 1.1//EN\"\n \"http://www.w3.org/Graphics/SVG/1.1/DTD/svg11.dtd\">\n<!-- Generated by graphviz version 2.43.0 (0)\n -->\n<!-- Title: %3 Pages: 1 -->\n<svg width=\"833pt\" height=\"128pt\"\n viewBox=\"0.00 0.00 833.00 128.00\" xmlns=\"http://www.w3.org/2000/svg\" xmlns:xlink=\"http://www.w3.org/1999/xlink\">\n<g id=\"graph0\" class=\"graph\" transform=\"scale(1 1) rotate(0) translate(4 124)\">\n<title>%3</title>\n<polygon fill=\"white\" stroke=\"transparent\" points=\"-4,4 -4,-124 829,-124 829,4 -4,4\"/>\n<!-- 135213981185120 -->\n<g id=\"node1\" class=\"node\">\n<title>135213981185120</title>\n<polygon fill=\"none\" stroke=\"black\" points=\"636,-27.5 636,-63.5 825,-63.5 825,-27.5 636,-27.5\"/>\n<text text-anchor=\"middle\" x=\"646\" y=\"-41.8\" font-family=\"Times,serif\" font-size=\"14.00\"> </text>\n<polyline fill=\"none\" stroke=\"black\" points=\"656,-27.5 656,-63.5 \"/>\n<text text-anchor=\"middle\" x=\"699.5\" y=\"-41.8\" font-family=\"Times,serif\" font-size=\"14.00\">data 12.0000</text>\n<polyline fill=\"none\" stroke=\"black\" points=\"743,-27.5 743,-63.5 \"/>\n<text text-anchor=\"middle\" x=\"784\" y=\"-41.8\" font-family=\"Times,serif\" font-size=\"14.00\">grad 0.0000</text>\n</g>\n<!-- 135213981185120* -->\n<g id=\"node2\" class=\"node\">\n<title>135213981185120*</title>\n<ellipse fill=\"none\" stroke=\"black\" cx=\"573\" cy=\"-45.5\" rx=\"27\" ry=\"18\"/>\n<text text-anchor=\"middle\" x=\"573\" y=\"-41.8\" font-family=\"Times,serif\" font-size=\"14.00\">*</text>\n</g>\n<!-- 135213981185120*&#45;&gt;135213981185120 -->\n<g id=\"edge1\" class=\"edge\">\n<title>135213981185120*&#45;&gt;135213981185120</title>\n<path fill=\"none\" stroke=\"black\" d=\"M600.03,-45.5C607.66,-45.5 616.52,-45.5 625.94,-45.5\"/>\n<polygon fill=\"black\" stroke=\"black\" points=\"625.94,-49 635.94,-45.5 625.94,-42 625.94,-49\"/>\n</g>\n<!-- 135213981185696 -->\n<g id=\"node3\" class=\"node\">\n<title>135213981185696</title>\n<polygon fill=\"none\" stroke=\"black\" points=\"316,-55.5 316,-91.5 510,-91.5 510,-55.5 316,-55.5\"/>\n<text text-anchor=\"middle\" x=\"327.5\" y=\"-69.8\" font-family=\"Times,serif\" font-size=\"14.00\">d</text>\n<polyline fill=\"none\" stroke=\"black\" points=\"339,-55.5 339,-91.5 \"/>\n<text text-anchor=\"middle\" x=\"381.5\" y=\"-69.8\" font-family=\"Times,serif\" font-size=\"14.00\">data &#45;6.0000</text>\n<polyline fill=\"none\" stroke=\"black\" points=\"424,-55.5 424,-91.5 \"/>\n<text text-anchor=\"middle\" x=\"467\" y=\"-69.8\" font-family=\"Times,serif\" font-size=\"14.00\">grad &#45;6.0000</text>\n</g>\n<!-- 135213981185696&#45;&gt;135213981185120* -->\n<g id=\"edge6\" class=\"edge\">\n<title>135213981185696&#45;&gt;135213981185120*</title>\n<path fill=\"none\" stroke=\"black\" d=\"M510.01,-56.49C519.35,-54.83 528.37,-53.23 536.49,-51.79\"/>\n<polygon fill=\"black\" stroke=\"black\" points=\"537.37,-55.19 546.6,-50 536.15,-48.3 537.37,-55.19\"/>\n</g>\n<!-- 135213981185696* -->\n<g id=\"node4\" class=\"node\">\n<title>135213981185696*</title>\n<ellipse fill=\"none\" stroke=\"black\" cx=\"253\" cy=\"-73.5\" rx=\"27\" ry=\"18\"/>\n<text text-anchor=\"middle\" x=\"253\" y=\"-69.8\" font-family=\"Times,serif\" font-size=\"14.00\">*</text>\n</g>\n<!-- 135213981185696*&#45;&gt;135213981185696 -->\n<g id=\"edge2\" class=\"edge\">\n<title>135213981185696*&#45;&gt;135213981185696</title>\n<path fill=\"none\" stroke=\"black\" d=\"M280.09,-73.5C287.62,-73.5 296.34,-73.5 305.63,-73.5\"/>\n<polygon fill=\"black\" stroke=\"black\" points=\"305.92,-77 315.92,-73.5 305.92,-70 305.92,-77\"/>\n</g>\n<!-- 135213981183152 -->\n<g id=\"node5\" class=\"node\">\n<title>135213981183152</title>\n<polygon fill=\"none\" stroke=\"black\" points=\"319,-0.5 319,-36.5 507,-36.5 507,-0.5 319,-0.5\"/>\n<text text-anchor=\"middle\" x=\"329.5\" y=\"-14.8\" font-family=\"Times,serif\" font-size=\"14.00\">f</text>\n<polyline fill=\"none\" stroke=\"black\" points=\"340,-0.5 340,-36.5 \"/>\n<text text-anchor=\"middle\" x=\"382.5\" y=\"-14.8\" font-family=\"Times,serif\" font-size=\"14.00\">data &#45;2.0000</text>\n<polyline fill=\"none\" stroke=\"black\" points=\"425,-0.5 425,-36.5 \"/>\n<text text-anchor=\"middle\" x=\"466\" y=\"-14.8\" font-family=\"Times,serif\" font-size=\"14.00\">grad 0.0000</text>\n</g>\n<!-- 135213981183152&#45;&gt;135213981185120* -->\n<g id=\"edge4\" class=\"edge\">\n<title>135213981183152&#45;&gt;135213981185120*</title>\n<path fill=\"none\" stroke=\"black\" d=\"M507.28,-34.44C517.65,-36.21 527.68,-37.93 536.63,-39.46\"/>\n<polygon fill=\"black\" stroke=\"black\" points=\"536.14,-42.92 546.59,-41.16 537.32,-36.02 536.14,-42.92\"/>\n</g>\n<!-- 135213981173456 -->\n<g id=\"node6\" class=\"node\">\n<title>135213981173456</title>\n<polygon fill=\"none\" stroke=\"black\" points=\"0,-83.5 0,-119.5 190,-119.5 190,-83.5 0,-83.5\"/>\n<text text-anchor=\"middle\" x=\"11.5\" y=\"-97.8\" font-family=\"Times,serif\" font-size=\"14.00\">b</text>\n<polyline fill=\"none\" stroke=\"black\" points=\"23,-83.5 23,-119.5 \"/>\n<text text-anchor=\"middle\" x=\"65.5\" y=\"-97.8\" font-family=\"Times,serif\" font-size=\"14.00\">data &#45;3.0000</text>\n<polyline fill=\"none\" stroke=\"black\" points=\"108,-83.5 108,-119.5 \"/>\n<text text-anchor=\"middle\" x=\"149\" y=\"-97.8\" font-family=\"Times,serif\" font-size=\"14.00\">grad 0.0000</text>\n</g>\n<!-- 135213981173456&#45;&gt;135213981185696* -->\n<g id=\"edge5\" class=\"edge\">\n<title>135213981173456&#45;&gt;135213981185696*</title>\n<path fill=\"none\" stroke=\"black\" d=\"M190.34,-84.57C199.62,-82.9 208.58,-81.29 216.66,-79.84\"/>\n<polygon fill=\"black\" stroke=\"black\" points=\"217.49,-83.25 226.72,-78.04 216.26,-76.36 217.49,-83.25\"/>\n</g>\n<!-- 135213981174080 -->\n<g id=\"node7\" class=\"node\">\n<title>135213981174080</title>\n<polygon fill=\"none\" stroke=\"black\" points=\"2.5,-28.5 2.5,-64.5 187.5,-64.5 187.5,-28.5 2.5,-28.5\"/>\n<text text-anchor=\"middle\" x=\"14\" y=\"-42.8\" font-family=\"Times,serif\" font-size=\"14.00\">a</text>\n<polyline fill=\"none\" stroke=\"black\" points=\"25.5,-28.5 25.5,-64.5 \"/>\n<text text-anchor=\"middle\" x=\"65.5\" y=\"-42.8\" font-family=\"Times,serif\" font-size=\"14.00\">data 2.0000</text>\n<polyline fill=\"none\" stroke=\"black\" points=\"105.5,-28.5 105.5,-64.5 \"/>\n<text text-anchor=\"middle\" x=\"146.5\" y=\"-42.8\" font-family=\"Times,serif\" font-size=\"14.00\">grad 0.0000</text>\n</g>\n<!-- 135213981174080&#45;&gt;135213981185696* -->\n<g id=\"edge3\" class=\"edge\">\n<title>135213981174080&#45;&gt;135213981185696*</title>\n<path fill=\"none\" stroke=\"black\" d=\"M187.65,-62.36C197.94,-64.14 207.91,-65.87 216.81,-67.41\"/>\n<polygon fill=\"black\" stroke=\"black\" points=\"216.26,-70.87 226.71,-69.12 217.45,-63.97 216.26,-70.87\"/>\n</g>\n</g>\n</svg>\n",
            "text/plain": [
              "<graphviz.graphs.Digraph at 0x7af9f5510400>"
            ]
          },
          "metadata": {},
          "execution_count": 94
        }
      ]
    },
    {
      "cell_type": "code",
      "source": [
        "L = d * f\n",
        "\n"
      ],
      "metadata": {
        "id": "ZjDHCZahSerA"
      },
      "execution_count": 93,
      "outputs": []
    },
    {
      "cell_type": "markdown",
      "source": [
        "### dL/dd = f\n",
        "\n",
        "(f(x+h) - f(x))/h where h->infinty\n",
        "\n",
        "((d+h)*f - d*f)/h\n",
        "\n",
        "(d*f + h*f - d*f)/h\n",
        "\n",
        "(h*f)/h\n",
        "\n",
        "f"
      ],
      "metadata": {
        "id": "DyKuwl_TVsat"
      }
    },
    {
      "cell_type": "code",
      "source": [
        "L.grad = 1.0\n",
        "c.grad = 10.0\n",
        "d.grad = -6.0"
      ],
      "metadata": {
        "id": "N4QonCUrRix_"
      },
      "execution_count": 92,
      "outputs": []
    },
    {
      "cell_type": "code",
      "source": [
        "def lol():\n",
        "\n",
        "  h = 0.001\n",
        "\n",
        "  a = Value(2.0, label='a')\n",
        "  b = Value(-3.0, label='b')\n",
        "  c = Value(10.0, label='c')\n",
        "  e = a*b; e.label = 'e'\n",
        "  d = e + c; d.label = 'd'\n",
        "  f = Value(-2.0, label='f')\n",
        "  L = d * f; L.label = 'L'\n",
        "  L1 = L.data\n",
        "\n",
        "  a = Value(2.0, label='a')\n",
        "  b = Value(-3.0, label='b')\n",
        "  b.data += h\n",
        "  c = Value(10.0, label='c')\n",
        "  e = a*b; e.label = 'e'\n",
        "  d = e + c; d.label = 'd'\n",
        "  f = Value(-2.0, label='f')\n",
        "  L = d * f; L.label = 'L'\n",
        "  L2 = L.data\n",
        "\n",
        "  print((L2 - L1)/h)\n",
        "\n",
        "lol()"
      ],
      "metadata": {
        "colab": {
          "base_uri": "https://localhost:8080/"
        },
        "id": "-d4JDtxjQkms",
        "outputId": "ae28a1e5-f834-4883-b99a-8fe7aeb24cf4"
      },
      "execution_count": 95,
      "outputs": [
        {
          "output_type": "stream",
          "name": "stdout",
          "text": [
            "-3.9999999999995595\n"
          ]
        }
      ]
    }
  ]
}